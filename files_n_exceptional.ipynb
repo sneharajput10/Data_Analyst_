{
  "nbformat": 4,
  "nbformat_minor": 0,
  "metadata": {
    "colab": {
      "provenance": [],
      "authorship_tag": "ABX9TyNzKaEbizMAYQxh49AFMcBZ",
      "include_colab_link": true
    },
    "kernelspec": {
      "name": "python3",
      "display_name": "Python 3"
    },
    "language_info": {
      "name": "python"
    }
  },
  "cells": [
    {
      "cell_type": "markdown",
      "metadata": {
        "id": "view-in-github",
        "colab_type": "text"
      },
      "source": [
        "<a href=\"https://colab.research.google.com/github/sneharajput10/Data_Analyst_/blob/main/files_n_exceptional.ipynb\" target=\"_parent\"><img src=\"https://colab.research.google.com/assets/colab-badge.svg\" alt=\"Open In Colab\"/></a>"
      ]
    },
    {
      "cell_type": "markdown",
      "source": [
        "#THEORY ANSWERS"
      ],
      "metadata": {
        "id": "AyyFQB83911J"
      }
    },
    {
      "cell_type": "markdown",
      "source": [
        "#1. What is the difference between interpreted and compiled languages?"
      ],
      "metadata": {
        "id": "KTT9Fumt99BK"
      }
    },
    {
      "cell_type": "markdown",
      "source": [
        "Compiled: Translated into machine code before execution (C, C++). Faster execution.\n",
        "\n",
        "Interpreted: Code is executed line by line by an interpreter (Python, JavaScript). Easier debugging but slower.\n",
        "\n",
        "Example: Python is interpreted, C++ is compiled."
      ],
      "metadata": {
        "id": "2qZVcVZi-FGJ"
      }
    },
    {
      "cell_type": "markdown",
      "source": [
        "#2. What is exception handling in Python?"
      ],
      "metadata": {
        "id": "t8WoK_N_kvFY"
      }
    },
    {
      "cell_type": "markdown",
      "source": [
        "A mechanism to handle runtime errors gracefully using try, except, else, finally."
      ],
      "metadata": {
        "id": "CLyn_R03k175"
      }
    },
    {
      "cell_type": "code",
      "source": [
        "try:\n",
        "    print(10 / 0)\n",
        "except ZeroDivisionError:\n",
        "    print(\"Cannot divide by zero!\")\n"
      ],
      "metadata": {
        "colab": {
          "base_uri": "https://localhost:8080/"
        },
        "id": "ag3AHFN1rQ-Z",
        "outputId": "92851f6f-16bf-4f73-badf-cacb08703a9d"
      },
      "execution_count": null,
      "outputs": [
        {
          "output_type": "stream",
          "name": "stdout",
          "text": [
            "Cannot divide by zero!\n"
          ]
        }
      ]
    },
    {
      "cell_type": "markdown",
      "source": [
        "#3. What is the purpose of the finally block in exception handling?"
      ],
      "metadata": {
        "id": "2RXCDXE1k15I"
      }
    },
    {
      "cell_type": "markdown",
      "source": [
        "Code inside finally always executes, whether or not an exception occurs (commonly used for cleanup tasks)."
      ],
      "metadata": {
        "id": "Q2WbTzFnk12H"
      }
    },
    {
      "cell_type": "code",
      "source": [
        "try:\n",
        "    f = open(\"test.txt\")\n",
        "finally:\n",
        "    print(\"File operation completed.\")\n"
      ],
      "metadata": {
        "colab": {
          "base_uri": "https://localhost:8080/",
          "height": 211
        },
        "id": "FeuYnZYErVli",
        "outputId": "d7b7ae2c-8244-4c8d-de3c-12f3e9a79c2c"
      },
      "execution_count": null,
      "outputs": [
        {
          "output_type": "stream",
          "name": "stdout",
          "text": [
            "File operation completed.\n"
          ]
        },
        {
          "output_type": "error",
          "ename": "FileNotFoundError",
          "evalue": "[Errno 2] No such file or directory: 'test.txt'",
          "traceback": [
            "\u001b[0;31m---------------------------------------------------------------------------\u001b[0m",
            "\u001b[0;31mFileNotFoundError\u001b[0m                         Traceback (most recent call last)",
            "\u001b[0;32m/tmp/ipython-input-3852319286.py\u001b[0m in \u001b[0;36m<cell line: 0>\u001b[0;34m()\u001b[0m\n\u001b[1;32m      1\u001b[0m \u001b[0;32mtry\u001b[0m\u001b[0;34m:\u001b[0m\u001b[0;34m\u001b[0m\u001b[0;34m\u001b[0m\u001b[0m\n\u001b[0;32m----> 2\u001b[0;31m     \u001b[0mf\u001b[0m \u001b[0;34m=\u001b[0m \u001b[0mopen\u001b[0m\u001b[0;34m(\u001b[0m\u001b[0;34m\"test.txt\"\u001b[0m\u001b[0;34m)\u001b[0m\u001b[0;34m\u001b[0m\u001b[0;34m\u001b[0m\u001b[0m\n\u001b[0m\u001b[1;32m      3\u001b[0m \u001b[0;32mfinally\u001b[0m\u001b[0;34m:\u001b[0m\u001b[0;34m\u001b[0m\u001b[0;34m\u001b[0m\u001b[0m\n\u001b[1;32m      4\u001b[0m     \u001b[0mprint\u001b[0m\u001b[0;34m(\u001b[0m\u001b[0;34m\"File operation completed.\"\u001b[0m\u001b[0;34m)\u001b[0m\u001b[0;34m\u001b[0m\u001b[0;34m\u001b[0m\u001b[0m\n",
            "\u001b[0;31mFileNotFoundError\u001b[0m: [Errno 2] No such file or directory: 'test.txt'"
          ]
        }
      ]
    },
    {
      "cell_type": "markdown",
      "source": [
        "#4. What is logging in Python?"
      ],
      "metadata": {
        "id": "UDSQFF_Lk1zg"
      }
    },
    {
      "cell_type": "markdown",
      "source": [
        "Logging is recording events or errors in a program for debugging and monitoring using the logging module."
      ],
      "metadata": {
        "id": "snR95YlJk1v-"
      }
    },
    {
      "cell_type": "code",
      "source": [
        "import logging\n",
        "logging.basicConfig(level=logging.INFO)\n",
        "logging.info(\"Program started\")\n"
      ],
      "metadata": {
        "id": "vtBCehRErdVO"
      },
      "execution_count": null,
      "outputs": []
    },
    {
      "cell_type": "markdown",
      "source": [
        "#5. What is the significance of the __del__ method in Python?"
      ],
      "metadata": {
        "id": "PpLDO66yk1sx"
      }
    },
    {
      "cell_type": "markdown",
      "source": [
        "Destructor method, called when an object is about to be destroyed (used for cleanup like closing files)."
      ],
      "metadata": {
        "id": "uh0R7mCgk1pj"
      }
    },
    {
      "cell_type": "code",
      "source": [
        "class Demo:\n",
        "    def __del__(self):\n",
        "        print(\"Object destroyed\")\n",
        "\n",
        "d = Demo()\n",
        "del d\n"
      ],
      "metadata": {
        "colab": {
          "base_uri": "https://localhost:8080/"
        },
        "id": "AnWvP8m4rgeD",
        "outputId": "2e8cd7ae-0c21-41ad-e293-1dc0efea30cc"
      },
      "execution_count": null,
      "outputs": [
        {
          "output_type": "stream",
          "name": "stdout",
          "text": [
            "Object destroyed\n"
          ]
        }
      ]
    },
    {
      "cell_type": "markdown",
      "source": [
        "#6. What is the difference between import and from ... import in Python?"
      ],
      "metadata": {
        "id": "NSyIGu_nk1mo"
      }
    },
    {
      "cell_type": "markdown",
      "source": [
        "import module: Imports the whole module.\n",
        "\n",
        "from module import x: Imports only specific function/class/variable."
      ],
      "metadata": {
        "id": "obbpQipkk1jt"
      }
    },
    {
      "cell_type": "markdown",
      "source": [
        "#7. How can you handle multiple exceptions in Python?"
      ],
      "metadata": {
        "id": "p7CQoT1Zk1gh"
      }
    },
    {
      "cell_type": "markdown",
      "source": [
        "By using multiple except blocks or a single block with a tuple of exceptions."
      ],
      "metadata": {
        "id": "72qWNB7ak1dK"
      }
    },
    {
      "cell_type": "code",
      "source": [
        "try:\n",
        "    x = int(\"abc\")\n",
        "except (ValueError, TypeError) as e:\n",
        "    print(\"Error:\", e)\n"
      ],
      "metadata": {
        "colab": {
          "base_uri": "https://localhost:8080/"
        },
        "id": "WskNyqjeronl",
        "outputId": "c4dc9a36-49df-490d-a8cb-f4629bf0fbb0"
      },
      "execution_count": null,
      "outputs": [
        {
          "output_type": "stream",
          "name": "stdout",
          "text": [
            "Error: invalid literal for int() with base 10: 'abc'\n"
          ]
        }
      ]
    },
    {
      "cell_type": "markdown",
      "source": [
        "#8. What is the purpose of the with statement when handling files in Python?"
      ],
      "metadata": {
        "id": "heM4H3lik1aD"
      }
    },
    {
      "cell_type": "markdown",
      "source": [
        "It ensures automatic closing of the file after operations, even if an error occurs."
      ],
      "metadata": {
        "id": "hHqYgPcFk1WG"
      }
    },
    {
      "cell_type": "code",
      "source": [
        "with open(\"file.txt\", \"r\") as f:\n",
        "    print(f.read())\n"
      ],
      "metadata": {
        "colab": {
          "base_uri": "https://localhost:8080/",
          "height": 158
        },
        "id": "3Z6TPd7CrwA2",
        "outputId": "97251545-3088-478f-fc1e-ba441f01dc88"
      },
      "execution_count": null,
      "outputs": [
        {
          "output_type": "error",
          "ename": "FileNotFoundError",
          "evalue": "[Errno 2] No such file or directory: 'file.txt'",
          "traceback": [
            "\u001b[0;31m---------------------------------------------------------------------------\u001b[0m",
            "\u001b[0;31mFileNotFoundError\u001b[0m                         Traceback (most recent call last)",
            "\u001b[0;32m/tmp/ipython-input-2782708444.py\u001b[0m in \u001b[0;36m<cell line: 0>\u001b[0;34m()\u001b[0m\n\u001b[0;32m----> 1\u001b[0;31m \u001b[0;32mwith\u001b[0m \u001b[0mopen\u001b[0m\u001b[0;34m(\u001b[0m\u001b[0;34m\"file.txt\"\u001b[0m\u001b[0;34m,\u001b[0m \u001b[0;34m\"r\"\u001b[0m\u001b[0;34m)\u001b[0m \u001b[0;32mas\u001b[0m \u001b[0mf\u001b[0m\u001b[0;34m:\u001b[0m\u001b[0;34m\u001b[0m\u001b[0;34m\u001b[0m\u001b[0m\n\u001b[0m\u001b[1;32m      2\u001b[0m     \u001b[0mprint\u001b[0m\u001b[0;34m(\u001b[0m\u001b[0mf\u001b[0m\u001b[0;34m.\u001b[0m\u001b[0mread\u001b[0m\u001b[0;34m(\u001b[0m\u001b[0;34m)\u001b[0m\u001b[0;34m)\u001b[0m\u001b[0;34m\u001b[0m\u001b[0;34m\u001b[0m\u001b[0m\n",
            "\u001b[0;31mFileNotFoundError\u001b[0m: [Errno 2] No such file or directory: 'file.txt'"
          ]
        }
      ]
    },
    {
      "cell_type": "markdown",
      "source": [
        "#9. What is the difference between multithreading and multiprocessing?"
      ],
      "metadata": {
        "id": "enILD5lxk1RG"
      }
    },
    {
      "cell_type": "markdown",
      "source": [
        "Multithreading: Multiple threads in one process (share memory). Best for I/O tasks.\n",
        "\n",
        "Multiprocessing: Multiple processes, each with its own memory. Best for CPU-heavy tasks."
      ],
      "metadata": {
        "id": "flDdc7gqk1H-"
      }
    },
    {
      "cell_type": "markdown",
      "source": [
        "#10. What are the advantages of using logging in a program?"
      ],
      "metadata": {
        "id": "5gEnCV09k07Q"
      }
    },
    {
      "cell_type": "markdown",
      "source": [
        "Tracks program execution, helps debugging, records errors, can be stored in log files.\n"
      ],
      "metadata": {
        "id": "tykTbslvk0q7"
      }
    },
    {
      "cell_type": "markdown",
      "source": [
        "#11. What is memory management in Python?"
      ],
      "metadata": {
        "id": "m8PyHWmgk0Ff"
      }
    },
    {
      "cell_type": "markdown",
      "source": [
        "Automatic allocation and deallocation of memory using reference counting and garbage collection."
      ],
      "metadata": {
        "id": "dMtBsA6XmYFn"
      }
    },
    {
      "cell_type": "markdown",
      "source": [
        "#12. What are the basic steps involved in exception handling in Python?"
      ],
      "metadata": {
        "id": "elIimLJymZgv"
      }
    },
    {
      "cell_type": "markdown",
      "source": [
        "try: Code that may cause error.\n",
        "\n",
        "except: Handles the error.\n",
        "\n",
        "else: Runs if no error.\n",
        "\n",
        "finally: Runs always."
      ],
      "metadata": {
        "id": "zFDH6hs7mZ-s"
      }
    },
    {
      "cell_type": "markdown",
      "source": [
        "#13. Why is memory management important in Python?"
      ],
      "metadata": {
        "id": "KSUONPNsmarB"
      }
    },
    {
      "cell_type": "markdown",
      "source": [
        "To prevent memory leaks, improve efficiency, and optimize resource usage."
      ],
      "metadata": {
        "id": "9LXYO2D1mbTB"
      }
    },
    {
      "cell_type": "markdown",
      "source": [
        "#14. What is the role of try and except in exception handling?"
      ],
      "metadata": {
        "id": "ASQKhyLum3i5"
      }
    },
    {
      "cell_type": "markdown",
      "source": [
        "try: Defines a block of code to test.\n",
        "\n",
        "except: Defines a block to handle the error."
      ],
      "metadata": {
        "id": "IL0L8KTgm4GA"
      }
    },
    {
      "cell_type": "code",
      "source": [
        "try:\n",
        "    print(5/0)\n",
        "except ZeroDivisionError:\n",
        "    print(\"Handled error\")\n"
      ],
      "metadata": {
        "colab": {
          "base_uri": "https://localhost:8080/"
        },
        "id": "0HCH2LBPsBLs",
        "outputId": "aaae9c20-b096-48b7-e0ff-a2c6d5c099cd"
      },
      "execution_count": null,
      "outputs": [
        {
          "output_type": "stream",
          "name": "stdout",
          "text": [
            "Handled error\n"
          ]
        }
      ]
    },
    {
      "cell_type": "markdown",
      "source": [
        "#15. How does Python’s garbage collection system work?"
      ],
      "metadata": {
        "id": "i5a_AGQvm45T"
      }
    },
    {
      "cell_type": "markdown",
      "source": [
        "Uses reference counting and a cyclic garbage collector to free unused memory."
      ],
      "metadata": {
        "id": "n8pdJjUbm5hq"
      }
    },
    {
      "cell_type": "code",
      "source": [
        "import gc\n",
        "print(gc.collect())\n"
      ],
      "metadata": {
        "colab": {
          "base_uri": "https://localhost:8080/"
        },
        "id": "xwA4ZFW0sERz",
        "outputId": "614a80cd-e2b9-47fd-e78e-0cad38d2a56d"
      },
      "execution_count": null,
      "outputs": [
        {
          "output_type": "stream",
          "name": "stdout",
          "text": [
            "89\n"
          ]
        }
      ]
    },
    {
      "cell_type": "markdown",
      "source": [
        "#16. What is the purpose of the else block in exception handling?"
      ],
      "metadata": {
        "id": "Is5rPjFcnO27"
      }
    },
    {
      "cell_type": "markdown",
      "source": [
        "Executes only if no exception occurs in the try block."
      ],
      "metadata": {
        "id": "Ll1PH16FnPay"
      }
    },
    {
      "cell_type": "code",
      "source": [
        "try:\n",
        "    print(\"No error\")\n",
        "except:\n",
        "    print(\"Error\")\n",
        "else:\n",
        "    print(\"Else block executed\")\n"
      ],
      "metadata": {
        "colab": {
          "base_uri": "https://localhost:8080/"
        },
        "id": "88gcI6mRsHXE",
        "outputId": "c0084669-6bc4-4b11-e90b-cadc464bcdb3"
      },
      "execution_count": null,
      "outputs": [
        {
          "output_type": "stream",
          "name": "stdout",
          "text": [
            "No error\n",
            "Else block executed\n"
          ]
        }
      ]
    },
    {
      "cell_type": "markdown",
      "source": [
        "#17. What are the common logging levels in Python?"
      ],
      "metadata": {
        "id": "xRo_dlu_nQG4"
      }
    },
    {
      "cell_type": "markdown",
      "source": [
        "DEBUG, INFO, WARNING, ERROR, CRITICAL."
      ],
      "metadata": {
        "id": "-exvqjH3nQv9"
      }
    },
    {
      "cell_type": "markdown",
      "source": [
        "#18. What is the difference between socket() and multiprocessing in Python?"
      ],
      "metadata": {
        "id": "hxcP-77jnx7s"
      }
    },
    {
      "cell_type": "markdown",
      "source": [
        "socket(): Used for network communication.\n",
        "\n",
        "multiprocessing: Used for parallel execution on multiple CPU cores."
      ],
      "metadata": {
        "id": "MYKNOgRunyd3"
      }
    },
    {
      "cell_type": "markdown",
      "source": [
        "#19. What is the importance of closing a file in Python?"
      ],
      "metadata": {
        "id": "gXV3Twyzny7_"
      }
    },
    {
      "cell_type": "markdown",
      "source": [
        "Releases system resources, ensures data is written properly to disk."
      ],
      "metadata": {
        "id": "8xLno4cMnzaw"
      }
    },
    {
      "cell_type": "markdown",
      "source": [
        "#20. What is the difference between file.read() and file.readline() in Python?"
      ],
      "metadata": {
        "id": "s3GJUGAGoI1T"
      }
    },
    {
      "cell_type": "markdown",
      "source": [
        "read(): Reads the entire file as a single string.\n",
        "\n",
        "readline(): Reads one line at a time."
      ],
      "metadata": {
        "id": "befkIi7QoJ9c"
      }
    },
    {
      "cell_type": "markdown",
      "source": [
        "#21. What is the logging module in Python used for?"
      ],
      "metadata": {
        "id": "V_rqDXbmoKcv"
      }
    },
    {
      "cell_type": "markdown",
      "source": [
        "To record program events, errors, and debugging information."
      ],
      "metadata": {
        "id": "FEvwLd3EoK6e"
      }
    },
    {
      "cell_type": "markdown",
      "source": [
        "#22. What is the os module in Python used for in file handling?"
      ],
      "metadata": {
        "id": "T0w7AK0uoLdn"
      }
    },
    {
      "cell_type": "markdown",
      "source": [
        "For interacting with the operating system: file paths, directories, file removal, renaming, etc."
      ],
      "metadata": {
        "id": "KvqiLikgoMC2"
      }
    },
    {
      "cell_type": "code",
      "source": [
        "import os\n",
        "print(os.listdir())  # list files\n"
      ],
      "metadata": {
        "colab": {
          "base_uri": "https://localhost:8080/"
        },
        "id": "6pi59Fo1sOXl",
        "outputId": "71ccda29-eaff-43c4-8741-703527a3aef7"
      },
      "execution_count": null,
      "outputs": [
        {
          "output_type": "stream",
          "name": "stdout",
          "text": [
            "['.config', 'sample_data']\n"
          ]
        }
      ]
    },
    {
      "cell_type": "markdown",
      "source": [
        "#23. What are the challenges associated with memory management in Python?"
      ],
      "metadata": {
        "id": "nAQV978FoMiy"
      }
    },
    {
      "cell_type": "markdown",
      "source": [
        "Reference cycles, memory leaks, fragmentation, high memory usage in large applications."
      ],
      "metadata": {
        "id": "Wxjc22RjowAI"
      }
    },
    {
      "cell_type": "markdown",
      "source": [
        "#24. How do you raise an exception manually in Python?"
      ],
      "metadata": {
        "id": "fFiEvdlEowlW"
      }
    },
    {
      "cell_type": "markdown",
      "source": [
        "raise ValueError(\"Invalid input\")"
      ],
      "metadata": {
        "id": "qdYBpqgMsZG3"
      }
    },
    {
      "cell_type": "code",
      "source": [
        "x = -1\n",
        "if x < 0:\n",
        "    raise ValueError(\"Negative value not allowed\")\n"
      ],
      "metadata": {
        "colab": {
          "base_uri": "https://localhost:8080/",
          "height": 176
        },
        "id": "q22SQ5yRsRzi",
        "outputId": "37df1b01-8526-4541-f067-faed0ccffc86"
      },
      "execution_count": null,
      "outputs": [
        {
          "output_type": "error",
          "ename": "ValueError",
          "evalue": "Negative value not allowed",
          "traceback": [
            "\u001b[0;31m---------------------------------------------------------------------------\u001b[0m",
            "\u001b[0;31mValueError\u001b[0m                                Traceback (most recent call last)",
            "\u001b[0;32m/tmp/ipython-input-840136883.py\u001b[0m in \u001b[0;36m<cell line: 0>\u001b[0;34m()\u001b[0m\n\u001b[1;32m      1\u001b[0m \u001b[0mx\u001b[0m \u001b[0;34m=\u001b[0m \u001b[0;34m-\u001b[0m\u001b[0;36m1\u001b[0m\u001b[0;34m\u001b[0m\u001b[0;34m\u001b[0m\u001b[0m\n\u001b[1;32m      2\u001b[0m \u001b[0;32mif\u001b[0m \u001b[0mx\u001b[0m \u001b[0;34m<\u001b[0m \u001b[0;36m0\u001b[0m\u001b[0;34m:\u001b[0m\u001b[0;34m\u001b[0m\u001b[0;34m\u001b[0m\u001b[0m\n\u001b[0;32m----> 3\u001b[0;31m     \u001b[0;32mraise\u001b[0m \u001b[0mValueError\u001b[0m\u001b[0;34m(\u001b[0m\u001b[0;34m\"Negative value not allowed\"\u001b[0m\u001b[0;34m)\u001b[0m\u001b[0;34m\u001b[0m\u001b[0;34m\u001b[0m\u001b[0m\n\u001b[0m",
            "\u001b[0;31mValueError\u001b[0m: Negative value not allowed"
          ]
        }
      ]
    },
    {
      "cell_type": "markdown",
      "source": [
        "#25. Why is it important to use multithreading in certain applications?"
      ],
      "metadata": {
        "id": "r0wozKcZoxJm"
      }
    },
    {
      "cell_type": "markdown",
      "source": [
        "Improves performance in I/O-bound tasks, allows concurrent execution, better responsiveness."
      ],
      "metadata": {
        "id": "oxODE12Lox1z"
      }
    },
    {
      "cell_type": "markdown",
      "source": [
        "#PRACTICAL ANSWERS"
      ],
      "metadata": {
        "id": "KLOm-1nXscW-"
      }
    },
    {
      "cell_type": "markdown",
      "source": [
        "#1. How can you open a file for writing in Python and write a string to it?"
      ],
      "metadata": {
        "id": "PPQ0TlopshO3"
      }
    },
    {
      "cell_type": "code",
      "source": [
        "with open(\"example.txt\", \"w\") as f:\n",
        "    f.write(\"Hello, this is my first file write operation!\")\n"
      ],
      "metadata": {
        "id": "SeMuKeQgsrca"
      },
      "execution_count": null,
      "outputs": []
    },
    {
      "cell_type": "markdown",
      "source": [
        "#2. Write a Python program to read the contents of a file and print each line."
      ],
      "metadata": {
        "id": "D2YHy1yusvus"
      }
    },
    {
      "cell_type": "code",
      "source": [
        "with open(\"example.txt\", \"r\") as f:\n",
        "    for line in f:\n",
        "        print(line.strip())\n"
      ],
      "metadata": {
        "colab": {
          "base_uri": "https://localhost:8080/"
        },
        "id": "Goy5oRGVs0Sf",
        "outputId": "4440f2db-865e-4465-fe4e-82f9f345368b"
      },
      "execution_count": null,
      "outputs": [
        {
          "output_type": "stream",
          "name": "stdout",
          "text": [
            "Hello, this is my first file write operation!\n"
          ]
        }
      ]
    },
    {
      "cell_type": "markdown",
      "source": [
        "#3. How would you handle a case where the file doesn’t exist while trying to open it for reading?"
      ],
      "metadata": {
        "id": "LIjokX9cs3uF"
      }
    },
    {
      "cell_type": "code",
      "source": [
        "try:\n",
        "    with open(\"not_found.txt\", \"r\") as f:\n",
        "        print(f.read())\n",
        "except FileNotFoundError:\n",
        "    print(\"Error: File does not exist.\")\n"
      ],
      "metadata": {
        "colab": {
          "base_uri": "https://localhost:8080/"
        },
        "id": "K9GmOpAes7pt",
        "outputId": "11f291f3-b006-4618-e861-11aad0fbefd5"
      },
      "execution_count": null,
      "outputs": [
        {
          "output_type": "stream",
          "name": "stdout",
          "text": [
            "Error: File does not exist.\n"
          ]
        }
      ]
    },
    {
      "cell_type": "markdown",
      "source": [
        "#4. Write a Python script that reads from one file and writes its content to another file."
      ],
      "metadata": {
        "id": "-IOHLXCcs-Yg"
      }
    },
    {
      "cell_type": "code",
      "source": [
        "with open(\"source.txt\", \"r\") as src, open(\"destination.txt\", \"w\") as dest:\n",
        "    for line in src:\n",
        "        dest.write(line)\n"
      ],
      "metadata": {
        "colab": {
          "base_uri": "https://localhost:8080/",
          "height": 176
        },
        "id": "bWS9bb3htCfn",
        "outputId": "f3ece191-f049-469d-ba4e-214e29571de7"
      },
      "execution_count": null,
      "outputs": [
        {
          "output_type": "error",
          "ename": "FileNotFoundError",
          "evalue": "[Errno 2] No such file or directory: 'source.txt'",
          "traceback": [
            "\u001b[0;31m---------------------------------------------------------------------------\u001b[0m",
            "\u001b[0;31mFileNotFoundError\u001b[0m                         Traceback (most recent call last)",
            "\u001b[0;32m/tmp/ipython-input-314218734.py\u001b[0m in \u001b[0;36m<cell line: 0>\u001b[0;34m()\u001b[0m\n\u001b[0;32m----> 1\u001b[0;31m \u001b[0;32mwith\u001b[0m \u001b[0mopen\u001b[0m\u001b[0;34m(\u001b[0m\u001b[0;34m\"source.txt\"\u001b[0m\u001b[0;34m,\u001b[0m \u001b[0;34m\"r\"\u001b[0m\u001b[0;34m)\u001b[0m \u001b[0;32mas\u001b[0m \u001b[0msrc\u001b[0m\u001b[0;34m,\u001b[0m \u001b[0mopen\u001b[0m\u001b[0;34m(\u001b[0m\u001b[0;34m\"destination.txt\"\u001b[0m\u001b[0;34m,\u001b[0m \u001b[0;34m\"w\"\u001b[0m\u001b[0;34m)\u001b[0m \u001b[0;32mas\u001b[0m \u001b[0mdest\u001b[0m\u001b[0;34m:\u001b[0m\u001b[0;34m\u001b[0m\u001b[0;34m\u001b[0m\u001b[0m\n\u001b[0m\u001b[1;32m      2\u001b[0m     \u001b[0;32mfor\u001b[0m \u001b[0mline\u001b[0m \u001b[0;32min\u001b[0m \u001b[0msrc\u001b[0m\u001b[0;34m:\u001b[0m\u001b[0;34m\u001b[0m\u001b[0;34m\u001b[0m\u001b[0m\n\u001b[1;32m      3\u001b[0m         \u001b[0mdest\u001b[0m\u001b[0;34m.\u001b[0m\u001b[0mwrite\u001b[0m\u001b[0;34m(\u001b[0m\u001b[0mline\u001b[0m\u001b[0;34m)\u001b[0m\u001b[0;34m\u001b[0m\u001b[0;34m\u001b[0m\u001b[0m\n",
            "\u001b[0;31mFileNotFoundError\u001b[0m: [Errno 2] No such file or directory: 'source.txt'"
          ]
        }
      ]
    },
    {
      "cell_type": "markdown",
      "source": [
        "#5. How would you catch and handle division by zero error in Python?"
      ],
      "metadata": {
        "id": "fU1uv6tytG71"
      }
    },
    {
      "cell_type": "code",
      "source": [
        "try:\n",
        "    result = 10 / 0\n",
        "except ZeroDivisionError:\n",
        "    print(\"Error: Division by zero is not allowed.\")\n"
      ],
      "metadata": {
        "colab": {
          "base_uri": "https://localhost:8080/"
        },
        "id": "bKsgfH1UtLZ6",
        "outputId": "8ce8f9d2-6656-4aaa-c831-3cc4caf24f7b"
      },
      "execution_count": null,
      "outputs": [
        {
          "output_type": "stream",
          "name": "stdout",
          "text": [
            "Error: Division by zero is not allowed.\n"
          ]
        }
      ]
    },
    {
      "cell_type": "markdown",
      "source": [
        "#6. Write a Python program that logs an error message to a log file when a division by zero exception occurs."
      ],
      "metadata": {
        "id": "E9QV9sHqtNyF"
      }
    },
    {
      "cell_type": "code",
      "source": [
        "import logging\n",
        "logging.basicConfig(filename=\"error.log\", level=logging.ERROR)\n",
        "\n",
        "try:\n",
        "    result = 10 / 0\n",
        "except ZeroDivisionError as e:\n",
        "    logging.error(\"Division by zero error occurred: %s\", e)\n"
      ],
      "metadata": {
        "colab": {
          "base_uri": "https://localhost:8080/"
        },
        "id": "rSIQFoWStRp6",
        "outputId": "4962fdae-a331-4032-c7ca-55422832d843"
      },
      "execution_count": null,
      "outputs": [
        {
          "output_type": "stream",
          "name": "stderr",
          "text": [
            "ERROR:root:Division by zero error occurred: division by zero\n"
          ]
        }
      ]
    },
    {
      "cell_type": "markdown",
      "source": [
        "#7. How do you log information at different levels (INFO, ERROR, WARNING) in Python using the logging module?"
      ],
      "metadata": {
        "id": "yM0fkCZDtUbq"
      }
    },
    {
      "cell_type": "code",
      "source": [
        "import logging\n",
        "logging.basicConfig(level=logging.DEBUG)\n",
        "\n",
        "logging.info(\"This is an INFO message.\")\n",
        "logging.warning(\"This is a WARNING message.\")\n",
        "logging.error(\"This is an ERROR message.\")\n"
      ],
      "metadata": {
        "colab": {
          "base_uri": "https://localhost:8080/"
        },
        "id": "7sTq7ZSjtX2_",
        "outputId": "9a46c54e-2417-4c53-d733-2d041dcfda0e"
      },
      "execution_count": null,
      "outputs": [
        {
          "output_type": "stream",
          "name": "stderr",
          "text": [
            "WARNING:root:This is a WARNING message.\n",
            "ERROR:root:This is an ERROR message.\n"
          ]
        }
      ]
    },
    {
      "cell_type": "markdown",
      "source": [
        "#8. Write a program to handle file opening error using exception handling."
      ],
      "metadata": {
        "id": "STUgON8rtas_"
      }
    },
    {
      "cell_type": "code",
      "source": [
        "try:\n",
        "    with open(\"unknown.txt\", \"r\") as f:\n",
        "        print(f.read())\n",
        "except IOError:\n",
        "    print(\"Error: Could not open file.\")\n"
      ],
      "metadata": {
        "colab": {
          "base_uri": "https://localhost:8080/"
        },
        "id": "jjMWTn9vtdnK",
        "outputId": "f7c75d32-2b9e-420f-f19d-05ca21825b25"
      },
      "execution_count": null,
      "outputs": [
        {
          "output_type": "stream",
          "name": "stdout",
          "text": [
            "Error: Could not open file.\n"
          ]
        }
      ]
    },
    {
      "cell_type": "markdown",
      "source": [
        "#9. How can you read a file line by line and store its content in a list in Python?"
      ],
      "metadata": {
        "id": "tvSDYdvatgd-"
      }
    },
    {
      "cell_type": "code",
      "source": [
        "with open(\"example.txt\", \"r\") as f:\n",
        "    lines = f.readlines()\n",
        "\n",
        "print(lines)\n"
      ],
      "metadata": {
        "colab": {
          "base_uri": "https://localhost:8080/"
        },
        "id": "RteTOHfxtlFd",
        "outputId": "66b86ae5-e3b7-49a4-8da3-a14d5ab1ca91"
      },
      "execution_count": null,
      "outputs": [
        {
          "output_type": "stream",
          "name": "stdout",
          "text": [
            "['Hello, this is my first file write operation!']\n"
          ]
        }
      ]
    },
    {
      "cell_type": "markdown",
      "source": [
        "#10. How can you append data to an existing file in Python?"
      ],
      "metadata": {
        "id": "pkB-sWWAtoCy"
      }
    },
    {
      "cell_type": "code",
      "source": [
        "with open(\"example.txt\", \"a\") as f:\n",
        "    f.write(\"\\nThis is an appended line.\")\n"
      ],
      "metadata": {
        "id": "UgTYd11htsc-"
      },
      "execution_count": null,
      "outputs": []
    },
    {
      "cell_type": "markdown",
      "source": [
        "#11. Write a Python program that uses a try-except block to handle an error when attempting to access a dictionary key that doesn’t exist."
      ],
      "metadata": {
        "id": "EmrR7elntvvC"
      }
    },
    {
      "cell_type": "code",
      "source": [
        "data = {\"name\": \"Sneha\"}\n",
        "\n",
        "try:\n",
        "    print(data[\"age\"])\n",
        "except KeyError:\n",
        "    print(\"Error: Key does not exist in dictionary.\")\n"
      ],
      "metadata": {
        "colab": {
          "base_uri": "https://localhost:8080/"
        },
        "id": "PSU-MfGIt0Tf",
        "outputId": "90455d30-9999-49f1-82b1-bd3980838cdf"
      },
      "execution_count": null,
      "outputs": [
        {
          "output_type": "stream",
          "name": "stdout",
          "text": [
            "Error: Key does not exist in dictionary.\n"
          ]
        }
      ]
    },
    {
      "cell_type": "markdown",
      "source": [
        "#12. Write a program that demonstrates using multiple except blocks to handle different types of exceptions."
      ],
      "metadata": {
        "id": "hTVzvJHnt2_t"
      }
    },
    {
      "cell_type": "code",
      "source": [
        "try:\n",
        "    num = int(\"abc\")     # ValueError\n",
        "    result = 10 / 0      # ZeroDivisionError\n",
        "except ValueError:\n",
        "    print(\"Invalid value conversion!\")\n",
        "except ZeroDivisionError:\n",
        "    print(\"Division by zero error!\")\n"
      ],
      "metadata": {
        "colab": {
          "base_uri": "https://localhost:8080/"
        },
        "id": "XozBiTXAt6HC",
        "outputId": "4b7f24af-d671-47d3-eafa-bb6c4e1521d6"
      },
      "execution_count": null,
      "outputs": [
        {
          "output_type": "stream",
          "name": "stdout",
          "text": [
            "Invalid value conversion!\n"
          ]
        }
      ]
    },
    {
      "cell_type": "markdown",
      "source": [
        "#13. How would you check if a file exists before attempting to read it in Python?"
      ],
      "metadata": {
        "id": "yADVX0aIt86-"
      }
    },
    {
      "cell_type": "code",
      "source": [
        "import os\n",
        "\n",
        "if os.path.exists(\"example.txt\"):\n",
        "    with open(\"example.txt\", \"r\") as f:\n",
        "        print(f.read())\n",
        "else:\n",
        "    print(\"File does not exist.\")\n"
      ],
      "metadata": {
        "colab": {
          "base_uri": "https://localhost:8080/"
        },
        "id": "8-2pQcS8uANw",
        "outputId": "7c6f8660-59af-4956-cc56-85eb4f1eb83b"
      },
      "execution_count": null,
      "outputs": [
        {
          "output_type": "stream",
          "name": "stdout",
          "text": [
            "Hello, this is my first file write operation!\n",
            "This is an appended line.\n"
          ]
        }
      ]
    },
    {
      "cell_type": "markdown",
      "source": [
        "#14. Write a program that uses the logging module to log both informational and error messages."
      ],
      "metadata": {
        "id": "W-PnPVnYuDMZ"
      }
    },
    {
      "cell_type": "code",
      "source": [
        "import logging\n",
        "logging.basicConfig(filename=\"app.log\", level=logging.DEBUG)\n",
        "\n",
        "logging.info(\"Program started.\")\n",
        "try:\n",
        "    result = 10 / 0\n",
        "except ZeroDivisionError:\n",
        "    logging.error(\"Division by zero occurred.\")\n",
        "logging.info(\"Program ended.\")\n"
      ],
      "metadata": {
        "colab": {
          "base_uri": "https://localhost:8080/"
        },
        "id": "wMRkrCTNuIQe",
        "outputId": "e438732f-7c6c-4327-e4d3-cf14ea2866f8"
      },
      "execution_count": null,
      "outputs": [
        {
          "output_type": "stream",
          "name": "stderr",
          "text": [
            "ERROR:root:Division by zero occurred.\n"
          ]
        }
      ]
    },
    {
      "cell_type": "markdown",
      "source": [
        "#15. Write a Python program that prints the content of a file and handles the case when the file is empty."
      ],
      "metadata": {
        "id": "cW5J9aVTuLSV"
      }
    },
    {
      "cell_type": "code",
      "source": [
        "with open(\"example.txt\", \"r\") as f:\n",
        "    content = f.read()\n",
        "\n",
        "if not content:\n",
        "    print(\"File is empty.\")\n",
        "else:\n",
        "    print(content)\n"
      ],
      "metadata": {
        "colab": {
          "base_uri": "https://localhost:8080/"
        },
        "id": "cvZVGJAkuOq6",
        "outputId": "059813c5-c8de-483f-94f4-1dd7fcd1375d"
      },
      "execution_count": null,
      "outputs": [
        {
          "output_type": "stream",
          "name": "stdout",
          "text": [
            "Hello, this is my first file write operation!\n",
            "This is an appended line.\n"
          ]
        }
      ]
    },
    {
      "cell_type": "markdown",
      "source": [
        "#16. Demonstrate Python exception handling to check the memory usage of a small program."
      ],
      "metadata": {
        "id": "hARcedw_uRw-"
      }
    },
    {
      "cell_type": "code",
      "source": [
        "import sys\n",
        "\n",
        "try:\n",
        "    numbers = [i for i in range(1000)]\n",
        "    print(\"Memory used by list:\", sys.getsizeof(numbers), \"bytes\")\n",
        "except MemoryError:\n",
        "    print(\"Memory error occurred!\")\n"
      ],
      "metadata": {
        "colab": {
          "base_uri": "https://localhost:8080/"
        },
        "id": "EfbSAKBzuV0m",
        "outputId": "8d2e9715-9193-4e9c-8a9d-48db019ba065"
      },
      "execution_count": null,
      "outputs": [
        {
          "output_type": "stream",
          "name": "stdout",
          "text": [
            "Memory used by list: 8856 bytes\n"
          ]
        }
      ]
    },
    {
      "cell_type": "markdown",
      "source": [
        "#17. Write a Python program to create and write a list of numbers to a file, one number per line."
      ],
      "metadata": {
        "id": "dxwWxJZduYy5"
      }
    },
    {
      "cell_type": "code",
      "source": [
        "numbers = [1, 2, 3, 4, 5]\n",
        "\n",
        "with open(\"numbers.txt\", \"w\") as f:\n",
        "    for num in numbers:\n",
        "        f.write(str(num) + \"\\n\")\n"
      ],
      "metadata": {
        "id": "qiC4b0kKudCv"
      },
      "execution_count": null,
      "outputs": []
    },
    {
      "cell_type": "markdown",
      "source": [
        "#18. Write a program that reads a text file and writes its content to another file after converting it to uppercase."
      ],
      "metadata": {
        "id": "94IsfjV_ufyV"
      }
    },
    {
      "cell_type": "code",
      "source": [
        "with open(\"input.txt\", \"r\") as infile, open(\"output.txt\", \"w\") as outfile:\n",
        "    for line in infile:\n",
        "        outfile.write(line.upper())\n"
      ],
      "metadata": {
        "colab": {
          "base_uri": "https://localhost:8080/",
          "height": 176
        },
        "id": "qqzjOsHqui4k",
        "outputId": "9ff31c72-e8cd-45bd-8e66-68e32002bb13"
      },
      "execution_count": null,
      "outputs": [
        {
          "output_type": "error",
          "ename": "FileNotFoundError",
          "evalue": "[Errno 2] No such file or directory: 'input.txt'",
          "traceback": [
            "\u001b[0;31m---------------------------------------------------------------------------\u001b[0m",
            "\u001b[0;31mFileNotFoundError\u001b[0m                         Traceback (most recent call last)",
            "\u001b[0;32m/tmp/ipython-input-1670210405.py\u001b[0m in \u001b[0;36m<cell line: 0>\u001b[0;34m()\u001b[0m\n\u001b[0;32m----> 1\u001b[0;31m \u001b[0;32mwith\u001b[0m \u001b[0mopen\u001b[0m\u001b[0;34m(\u001b[0m\u001b[0;34m\"input.txt\"\u001b[0m\u001b[0;34m,\u001b[0m \u001b[0;34m\"r\"\u001b[0m\u001b[0;34m)\u001b[0m \u001b[0;32mas\u001b[0m \u001b[0minfile\u001b[0m\u001b[0;34m,\u001b[0m \u001b[0mopen\u001b[0m\u001b[0;34m(\u001b[0m\u001b[0;34m\"output.txt\"\u001b[0m\u001b[0;34m,\u001b[0m \u001b[0;34m\"w\"\u001b[0m\u001b[0;34m)\u001b[0m \u001b[0;32mas\u001b[0m \u001b[0moutfile\u001b[0m\u001b[0;34m:\u001b[0m\u001b[0;34m\u001b[0m\u001b[0;34m\u001b[0m\u001b[0m\n\u001b[0m\u001b[1;32m      2\u001b[0m     \u001b[0;32mfor\u001b[0m \u001b[0mline\u001b[0m \u001b[0;32min\u001b[0m \u001b[0minfile\u001b[0m\u001b[0;34m:\u001b[0m\u001b[0;34m\u001b[0m\u001b[0;34m\u001b[0m\u001b[0m\n\u001b[1;32m      3\u001b[0m         \u001b[0moutfile\u001b[0m\u001b[0;34m.\u001b[0m\u001b[0mwrite\u001b[0m\u001b[0;34m(\u001b[0m\u001b[0mline\u001b[0m\u001b[0;34m.\u001b[0m\u001b[0mupper\u001b[0m\u001b[0;34m(\u001b[0m\u001b[0;34m)\u001b[0m\u001b[0;34m)\u001b[0m\u001b[0;34m\u001b[0m\u001b[0;34m\u001b[0m\u001b[0m\n",
            "\u001b[0;31mFileNotFoundError\u001b[0m: [Errno 2] No such file or directory: 'input.txt'"
          ]
        }
      ]
    },
    {
      "cell_type": "markdown",
      "source": [
        "#19. Write a program that handles both IndexError and KeyError using a try-except block."
      ],
      "metadata": {
        "id": "x0sCtrTbul0G"
      }
    },
    {
      "cell_type": "code",
      "source": [
        "data = {\"name\": \"Sneha\"}\n",
        "lst = [10, 20]\n",
        "\n",
        "try:\n",
        "    print(lst[5])      # IndexError\n",
        "    print(data[\"age\"]) # KeyError\n",
        "except IndexError:\n",
        "    print(\"List index out of range!\")\n",
        "except KeyError:\n",
        "    print(\"Dictionary key not found!\")\n"
      ],
      "metadata": {
        "colab": {
          "base_uri": "https://localhost:8080/"
        },
        "id": "M9eraRs6upHc",
        "outputId": "66e9f876-21b5-405c-c120-7444a02196e4"
      },
      "execution_count": null,
      "outputs": [
        {
          "output_type": "stream",
          "name": "stdout",
          "text": [
            "List index out of range!\n"
          ]
        }
      ]
    },
    {
      "cell_type": "markdown",
      "source": [
        "#20. Write a Python program that reads integers from a file and prints their sum."
      ],
      "metadata": {
        "id": "yL619xXQur62"
      }
    },
    {
      "cell_type": "code",
      "source": [
        "with open(\"numbers.txt\", \"r\") as f:\n",
        "    total = sum(int(line.strip()) for line in f)\n",
        "\n",
        "print(\"Sum of numbers:\", total)\n"
      ],
      "metadata": {
        "colab": {
          "base_uri": "https://localhost:8080/"
        },
        "id": "UhLLOVlguvbY",
        "outputId": "e545fd03-6b08-4677-8d32-1b4b912079a1"
      },
      "execution_count": null,
      "outputs": [
        {
          "output_type": "stream",
          "name": "stdout",
          "text": [
            "Sum of numbers: 15\n"
          ]
        }
      ]
    },
    {
      "cell_type": "markdown",
      "source": [
        "#21. Write a program that reads lines from a file and prints the number of occurrences of a specific word."
      ],
      "metadata": {
        "id": "p856WDoXuydX"
      }
    },
    {
      "cell_type": "code",
      "source": [
        "word = \"python\"\n",
        "count = 0\n",
        "\n",
        "with open(\"example.txt\", \"r\") as f:\n",
        "    for line in f:\n",
        "        count += line.lower().split().count(word)\n",
        "\n",
        "print(f\"The word '{word}' occurs {count} times.\")\n"
      ],
      "metadata": {
        "colab": {
          "base_uri": "https://localhost:8080/"
        },
        "id": "jkCbkt-8u1lo",
        "outputId": "de252974-69fe-40fc-c54e-270416174ef4"
      },
      "execution_count": null,
      "outputs": [
        {
          "output_type": "stream",
          "name": "stdout",
          "text": [
            "The word 'python' occurs 0 times.\n"
          ]
        }
      ]
    },
    {
      "cell_type": "markdown",
      "source": [
        "#22. How can you check if a file is empty in Python before reading its contents?"
      ],
      "metadata": {
        "id": "xvL4E8vFu4Uu"
      }
    },
    {
      "cell_type": "code",
      "source": [
        "import os\n",
        "\n",
        "if os.path.getsize(\"example.txt\") == 0:\n",
        "    print(\"File is empty.\")\n",
        "else:\n",
        "    with open(\"example.txt\", \"r\") as f:\n",
        "        print(f.read())\n"
      ],
      "metadata": {
        "colab": {
          "base_uri": "https://localhost:8080/"
        },
        "id": "88KYR6kmu7yG",
        "outputId": "286d2572-8a3f-4238-feca-a6099e32b118"
      },
      "execution_count": null,
      "outputs": [
        {
          "output_type": "stream",
          "name": "stdout",
          "text": [
            "Hello, this is my first file write operation!\n",
            "This is an appended line.\n"
          ]
        }
      ]
    },
    {
      "cell_type": "markdown",
      "source": [
        "#23. Write a Python program that writes to a log file when an error occurs during file handling."
      ],
      "metadata": {
        "id": "zFGsDhj0u-hN"
      }
    },
    {
      "cell_type": "code",
      "source": [
        "import logging\n",
        "logging.basicConfig(filename=\"file_errors.log\", level=logging.ERROR)\n",
        "\n",
        "try:\n",
        "    with open(\"unknown.txt\", \"r\") as f:\n",
        "        print(f.read())\n",
        "except Exception as e:\n",
        "    logging.error(\"File handling error: %s\", e)\n"
      ],
      "metadata": {
        "colab": {
          "base_uri": "https://localhost:8080/"
        },
        "id": "22AckE5DvC2e",
        "outputId": "a1ee7c7b-fd62-4616-ddd3-5a419ee734af"
      },
      "execution_count": null,
      "outputs": [
        {
          "output_type": "stream",
          "name": "stderr",
          "text": [
            "ERROR:root:File handling error: [Errno 2] No such file or directory: 'unknown.txt'\n"
          ]
        }
      ]
    }
  ]
}