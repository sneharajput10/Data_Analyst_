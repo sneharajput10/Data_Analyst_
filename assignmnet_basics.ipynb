{
  "nbformat": 4,
  "nbformat_minor": 0,
  "metadata": {
    "colab": {
      "provenance": [],
      "authorship_tag": "ABX9TyNcyK9AjFd15ETQ7539+7kY",
      "include_colab_link": true
    },
    "kernelspec": {
      "name": "python3",
      "display_name": "Python 3"
    },
    "language_info": {
      "name": "python"
    }
  },
  "cells": [
    {
      "cell_type": "markdown",
      "metadata": {
        "id": "view-in-github",
        "colab_type": "text"
      },
      "source": [
        "<a href=\"https://colab.research.google.com/github/sneharajput10/Data_Analyst_/blob/main/assignmnet_basics.ipynb\" target=\"_parent\"><img src=\"https://colab.research.google.com/assets/colab-badge.svg\" alt=\"Open In Colab\"/></a>"
      ]
    },
    {
      "cell_type": "markdown",
      "source": [],
      "metadata": {
        "id": "CYSi6xL64XG7"
      }
    },
    {
      "cell_type": "markdown",
      "source": [
        "1. What is Python, and why is it popular?\n",
        "Python is a high-level, interpreted, general-purpose programming language known for its simple syntax and readability.\n",
        "Popularity reasons: Easy to learn, large community, rich libraries, cross-platform support, and wide usage (web, AI, data analysis, automation, etc.).\n",
        "\n",
        "2. What is an interpreter in Python?\n",
        "An interpreter executes Python code line by line, converting it into machine code at runtime, so you don’t need to compile it beforehand.\n",
        "\n",
        "3. What are pre-defined keywords in Python?\n",
        "Keywords are reserved words in Python with special meanings, e.g., if, while, True, None, import. They cannot be redefined.\n",
        "\n",
        "4. Can keywords be used as variable names?\n",
        "No. Python will throw a SyntaxError if you try to use a keyword as a variable name.\n",
        "\n",
        "5. What is mutability in Python?\n",
        "Mutability refers to whether an object’s value can be changed after creation.\n",
        "\n",
        "Mutable: Values can be changed (e.g., list, dict).\n",
        "\n",
        "Immutable: Values cannot be changed (e.g., tuple, str).\n",
        "\n",
        "6. Why are lists mutable, but tuples are immutable?\n",
        "Lists are designed for dynamic data, allowing modifications.\n",
        "Tuples are meant for fixed data, improving safety and sometimes performance.\n",
        "\n",
        "7. Difference between // and / operators in Python?\n",
        "\n",
        "/ → Floating-point division (returns decimal result).\n",
        "\n",
        "// → Floor division (returns the largest integer ≤ result).\n",
        "\n",
        "8. What are logical operators in Python?\n",
        "Used for boolean logic:\n",
        "\n",
        "and → True if both are True.\n",
        "\n",
        "or → True if at least one is True.\n",
        "\n",
        "not → Inverts boolean value.\n",
        "\n",
        "9. What is type casting in Python?\n",
        "Converting one data type to another (e.g., int(\"5\") → integer).\n",
        "\n",
        "10. Difference between implicit and explicit type casting?\n",
        "\n",
        "Implicit: Done automatically by Python (e.g., 5 + 2.5 → 7.5 as float).\n",
        "\n",
        "Explicit: Done manually using functions (int(), float(), str()).\n",
        "\n",
        "11. Purpose of conditional statements in Python?\n",
        "They allow decision-making in programs by executing code blocks based on conditions (if, elif, else).\n",
        "\n",
        "12. How does the elif statement work?\n",
        "elif (else-if) checks another condition if the previous if or elif was False. Execution stops at the first True condition.\n",
        "\n",
        "13. Difference between for and while loops?\n",
        "\n",
        "for loop → Iterates over a sequence (fixed or known number of iterations).\n",
        "\n",
        "while loop → Runs until a condition becomes False (unknown number of iterations possible).\n",
        "\n",
        "14. Scenario where while loop is more suitable than for loop:\n",
        "When you don’t know beforehand how many times to run — e.g., keep asking a user for input until they enter a valid password."
      ],
      "metadata": {
        "id": "YfT_1Ri34AN9"
      }
    },
    {
      "cell_type": "code",
      "execution_count": null,
      "metadata": {
        "colab": {
          "base_uri": "https://localhost:8080/"
        },
        "id": "Q1oUqR3K1iY2",
        "outputId": "6968b77e-becc-4922-dbdf-45f1f03c3441"
      },
      "outputs": [
        {
          "output_type": "stream",
          "name": "stdout",
          "text": [
            "HELLO WORLD\n"
          ]
        }
      ],
      "source": [
        "print(\"HELLO WORLD\")"
      ]
    },
    {
      "cell_type": "code",
      "source": [
        "name= \"SNEHA RAJPUT\"\n",
        "\n",
        "age= 24\n",
        "\n",
        "print(\"my name is \",name , \"and my age is\", age)\n",
        "\n"
      ],
      "metadata": {
        "id": "8w2DknGZ1rAB"
      },
      "execution_count": null,
      "outputs": []
    },
    {
      "cell_type": "code",
      "source": [
        "import keyword\n",
        "\n",
        "klist = keyword.kwlist\n",
        "\n",
        "for kword in klist:\n",
        "\n",
        "  print(kword)"
      ],
      "metadata": {
        "id": "lQzyY2cO1vDf"
      },
      "execution_count": null,
      "outputs": []
    },
    {
      "cell_type": "code",
      "source": [
        "import keyword\n",
        "\n",
        "word = input(\"Enter the word: \")\n",
        "\n",
        "if word in keyword.kwlist:\n",
        "\n",
        "  print(\"it is a keyword\")\n",
        "else:\n",
        "\n",
        "  print(\"it's not a keyword\")"
      ],
      "metadata": {
        "id": "m75q2Ll312Cc"
      },
      "execution_count": null,
      "outputs": []
    },
    {
      "cell_type": "code",
      "source": [
        "l1 = [1,3,-3,\"mayur\",True] #list\n",
        "\n",
        "t1 = (1,3,-3,\"mayur\",True) #tuple\n",
        "\n",
        "#changing value in list\n",
        "\n",
        "l1[1] = 5 #no error\n",
        "\n",
        "print(l1)\n",
        "\n",
        "#changing value in tuple\n",
        "\n",
        "#converting tuple to list first\n",
        "\n",
        "l2 = list(t1)\n",
        "\n",
        "#changing desired value in temporary list\n",
        "\n",
        "l2[2] = -3.5\n",
        "\n",
        "#converting temporary list back to tuple\n",
        "\n",
        "t2 = tuple(l2)\n",
        "\n",
        "print(t2)\n",
        "\n"
      ],
      "metadata": {
        "id": "7dc12WYg17qV"
      },
      "execution_count": null,
      "outputs": []
    },
    {
      "cell_type": "code",
      "source": [
        "def change_num_input(x):\n",
        "\n",
        "  print(x)\n",
        "  x = x+10\n",
        "  print(x)\n",
        "  return\n",
        "def change_list_input(l):\n",
        "\n",
        "  print(l)\n",
        "  l.append(4)\n",
        "  print(l)\n",
        "  return\n",
        "x = 5\n",
        "\n",
        "print(x)\n",
        "\n",
        "change_num_input(x) #here number variable is passed as an argument\n",
        "\n",
        "print(x) #this number will not be changed\n",
        "\n",
        "l = [1,2,3]\n",
        "\n",
        "print(l)\n",
        "\n",
        "change_list_input(l)\n",
        "\n",
        "print(l) #this list will be changed list"
      ],
      "metadata": {
        "id": "CVYtIehj2QIu"
      },
      "execution_count": null,
      "outputs": []
    },
    {
      "cell_type": "code",
      "source": [
        "x=5\n",
        "\n",
        "y=10\n",
        "\n",
        "sum=x+y\n",
        "\n",
        "print(\"sum :\",sum)\n",
        "\n",
        "diff=x-y\n",
        "\n",
        "print(\"difference is:\",diff)\n",
        "\n",
        "prod=x*y\n",
        "\n",
        "quotient = x/y\n",
        "\n",
        "print(\"product :\",prod ,\"\\n\" + \"Quotient : \",quotient)\n",
        "\n"
      ],
      "metadata": {
        "id": "eEzhAvUQ2XvE"
      },
      "execution_count": null,
      "outputs": []
    },
    {
      "cell_type": "code",
      "source": [
        "a=True\n",
        "\n",
        "b=False\n",
        "\n",
        "c = a and b #false\n",
        "\n",
        "d = a or b #true\n",
        "\n",
        "e = not a #false\n",
        "\n",
        "f = not b #true\n",
        "\n",
        "print(\"a AND b:\" ,c)\n",
        "\n",
        "print(\"a OR b:\" ,d)\n",
        "\n",
        "print(\"NOT a:\" , e)\n",
        "\n",
        "print(\"NOT b:\", f)"
      ],
      "metadata": {
        "id": "D8e_4K9I2b39"
      },
      "execution_count": null,
      "outputs": []
    },
    {
      "cell_type": "code",
      "source": [
        "val= input(\"enter the value:\")\n",
        "\n",
        "int_val=int(val)\n",
        "\n",
        "float_val=float(val)\n",
        "\n",
        "boolean_val=bool(val)\n",
        "\n",
        "print(int_val,float_val,boolean_val)"
      ],
      "metadata": {
        "id": "WMwcibPs2kbx"
      },
      "execution_count": null,
      "outputs": []
    },
    {
      "cell_type": "code",
      "source": [
        "l1=['1',2,3,'4',5,6]\n",
        "\n",
        "l1[0]=int(l1[0])\n",
        "\n",
        "l1[2]=float(l1[2])\n",
        "\n",
        "l1[5]=bool(l1[5])"
      ],
      "metadata": {
        "id": "CVUgX9aZ2nAf"
      },
      "execution_count": null,
      "outputs": []
    },
    {
      "cell_type": "code",
      "source": [
        "class Car:\n",
        "\n",
        "  color=\"red\"\n",
        "\n",
        "  brand=\"toyota\"\n",
        "\n",
        "  price=\"700000\"\n",
        "\n",
        "  def start(cls):\n",
        "\n",
        "    print(\"car has started\")\n",
        "  def accelarate(cls):\n",
        "\n",
        "    print(\"accelarating\")\n",
        "  def brake(cls):\n",
        "\n",
        "    print(\"car stopped\")\n",
        "car1 = Car()\n",
        "\n",
        "print(car1.color)\n",
        "\n",
        "print(car1.price)\n",
        "\n",
        "car1.start()\n",
        "\n",
        "car1.accelarate()\n",
        "\n",
        "car1.brake()"
      ],
      "metadata": {
        "colab": {
          "base_uri": "https://localhost:8080/"
        },
        "id": "1OCU7lqB2rU2",
        "outputId": "800c4bbb-efcd-4721-817e-4b48d78fead7"
      },
      "execution_count": null,
      "outputs": [
        {
          "output_type": "stream",
          "name": "stdout",
          "text": [
            "red\n",
            "700000\n",
            "car has started\n",
            "accelarating\n",
            "car stopped\n"
          ]
        }
      ]
    },
    {
      "cell_type": "code",
      "source": [
        "for i in range(1,11):\n",
        "\n",
        "  print(i)"
      ],
      "metadata": {
        "id": "g3wW63vd3FLB"
      },
      "execution_count": null,
      "outputs": []
    },
    {
      "cell_type": "code",
      "source": [
        "s=0\n",
        "\n",
        "for i in range(1,51):\n",
        "\n",
        "  if i%2==0:\n",
        "\n",
        "    s=s+i\n",
        "print(s)"
      ],
      "metadata": {
        "id": "FqNcajER3JTG"
      },
      "execution_count": null,
      "outputs": []
    },
    {
      "cell_type": "code",
      "source": [
        "str1 = \"SNEHA\"\n",
        "str2 = \"\"\n",
        "result = \"AHENS\"\n",
        "n = len(str1) -1\n",
        "\n",
        "while n>=0:\n",
        "  str2 = str2 + str1[n]\n",
        "  n=n-1\n",
        "print(str2)"
      ],
      "metadata": {
        "id": "0ekZlQBH3Sux"
      },
      "execution_count": null,
      "outputs": []
    },
    {
      "cell_type": "code",
      "source": [
        "n = int(input(\"enter the number: \"))\n",
        "fact=1\n",
        "while n>0:\n",
        "\n",
        "  fact=fact*n\n",
        "  n=n-1\n",
        "print(fact)"
      ],
      "metadata": {
        "id": "q-hAFINK3qPq"
      },
      "execution_count": null,
      "outputs": []
    }
  ]
}