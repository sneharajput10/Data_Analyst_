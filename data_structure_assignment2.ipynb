{
  "nbformat": 4,
  "nbformat_minor": 0,
  "metadata": {
    "colab": {
      "provenance": [],
      "authorship_tag": "ABX9TyNcOm4dWKTgBBRMDYLmJmJt",
      "include_colab_link": true
    },
    "kernelspec": {
      "name": "python3",
      "display_name": "Python 3"
    },
    "language_info": {
      "name": "python"
    }
  },
  "cells": [
    {
      "cell_type": "markdown",
      "metadata": {
        "id": "view-in-github",
        "colab_type": "text"
      },
      "source": [
        "<a href=\"https://colab.research.google.com/github/sneharajput10/Data_Analyst_/blob/main/data_structure_assignment2.ipynb\" target=\"_parent\"><img src=\"https://colab.research.google.com/assets/colab-badge.svg\" alt=\"Open In Colab\"/></a>"
      ]
    },
    {
      "cell_type": "markdown",
      "source": [
        "1. What are data structures, and why are they important?\n",
        "   Data structures are ways of organizing and storing data so that it can be used efficiently.\n",
        "   They are important because they help in:\n",
        "\n",
        "   Fast access to data\n",
        "\n",
        "   Efficient memory usage\n",
        "\n",
        "   Better problem-solving\n",
        "\n",
        "2. Explain the difference between mutable and immutable data types with examples.\n",
        "\n",
        "Mutable → can be changed after creation. Example: list, dict, set\n",
        "\n",
        "my_list = [1, 2, 3]\n",
        "my_list[0] = 10  #allowed\n",
        "\n",
        "\n",
        "Immutable → cannot be changed after creation. Example: tuple, string\n",
        "\n",
        "my_str = \"hello\"\n",
        "# my_str[0] = \"H\"  not allowed\n",
        "\n",
        "\n",
        "3. What are the main differences between lists and tuples in Python?\n",
        "\n",
        "List: Mutable, slower, uses [].\n",
        "\n",
        "Tuple: Immutable, faster, uses ().\n",
        "\n",
        "4. Describe how dictionaries store data.\n",
        "  Dictionaries store data in key-value pairs using a hashing mechanism.\n",
        "Example:\n",
        "\n",
        "student = {\"name\": \"Sneha\", \"age\": 22}\n",
        "\n",
        "\n",
        "5. Why might you use a set instead of a list in Python?\n",
        "  Use a set when:\n",
        "\n",
        "You need unique elements (no duplicates).\n",
        "\n",
        "You want fast membership testing (in keyword is faster).\n",
        "\n",
        "6. What is a string in Python, and how is it different from a list?\n",
        "\n",
        "A string is an immutable sequence of characters.\n",
        "\n",
        "A list is a mutable sequence of elements (can be numbers, strings, etc.).\n",
        "\n",
        "7. How do tuples ensure data integrity in Python?\n",
        "  Since tuples are immutable, their data cannot be accidentally changed, ensuring integrity.\n",
        "\n",
        "8. What is a hash table, and how does it relate to dictionaries in Python?\n",
        "\n",
        "A hash table stores data using a hash function that maps keys to values.\n",
        "\n",
        "Python’s dictionary is implemented using a hash table.\n",
        "\n",
        "9. Can lists contain different data types in Python?\n",
        "  Yes, lists can store mixed data types.\n",
        "\n",
        "my_list = [1, \"hello\", 3.14, True]\n",
        "\n",
        "\n",
        "10. Explain why strings are immutable in Python.\n",
        "  Strings are immutable for safety, consistency, and efficiency (hashing and memory optimization).\n",
        "\n",
        "11. What advantages do dictionaries offer over lists for certain tasks?\n",
        " Dictionaries provide:\n",
        "\n",
        "Fast lookups by key (O(1))\n",
        "\n",
        "Clear data structure with meaningful keys\n",
        "\n",
        "12. Describe a scenario where using a tuple would be preferable over a list.\n",
        "  Example: Coordinates (x, y) should not change → use tuple.\n",
        "\n",
        "location = (28.61, 77.23)  # Delhi coordinates\n",
        "\n",
        "\n",
        "13. How do sets handle duplicate values in Python?\n",
        "  Sets automatically remove duplicates.\n",
        "\n",
        "s = {1, 2, 2, 3}\n",
        "print(s)  # {1, 2, 3}\n",
        "\n",
        "\n",
        "14. How does the \"in\" keyword work differently for lists and dictionaries?\n",
        "\n",
        "List: Checks if a value exists.\n",
        "\n",
        "3 in [1, 2, 3]  # True\n",
        "\n",
        "\n",
        "Dictionary: Checks if a key exists.\n",
        "\n",
        "\"name\" in {\"name\": \"Sneha\"}  # True\n",
        "\n",
        "\n",
        "15. Can you modify the elements of a tuple? Explain why or why not.\n",
        "  No, because tuples are immutable. Once created, they cannot be changed.\n",
        "\n",
        "16. What is a nested dictionary, and give an example of its use case?\n",
        "  A dictionary inside another dictionary.\n",
        "Example:\n",
        "\n",
        "students = {\n",
        "    \"101\": {\"name\": \"Sneha\", \"age\": 22},\n",
        "    \"102\": {\"name\": \"Rahul\", \"age\": 21}\n",
        "}\n",
        "\n",
        "\n",
        "Useful for storing structured data (like databases).\n",
        "\n",
        "17. Describe the time complexity of accessing elements in a dictionary.\n",
        "  Average case: O(1) (constant time).\n",
        "  Worst case: O(n) (rare, when many hash collisions occur).\n",
        "\n",
        "18. In what situations are lists preferred over dictionaries?\n",
        "  When:\n",
        "\n",
        "Order of elements matters.\n",
        "\n",
        "You only need values (no key-value mapping).\n",
        "\n",
        "Sequential data like shopping cart items.\n",
        "\n",
        "19. Why are dictionaries considered unordered, and how does that affect data retrieval?\n",
        "  Before Python 3.7, dictionaries were unordered. Since 3.7, they preserve insertion order, but retrieval is still based on keys, not positions.\n",
        "\n",
        "20. Explain the difference between a list and a dictionary in terms of data retrieval.\n",
        "\n",
        "List → retrieve by index (position).\n",
        "\n",
        "nums = [10, 20, 30]\n",
        "nums[1]  # 20\n",
        "\n",
        "\n",
        "Dictionary → retrieve by key.\n",
        "\n",
        "student = {\"name\": \"Sneha\", \"age\": 22}\n",
        "student[\"age\"]  # 22"
      ],
      "metadata": {
        "id": "o_u-q5L8WDty"
      }
    },
    {
      "cell_type": "code",
      "execution_count": null,
      "metadata": {
        "colab": {
          "base_uri": "https://localhost:8080/"
        },
        "id": "xzvBQn5UQ6tG",
        "outputId": "3b7c7841-e6b6-47f9-d8e3-3de3fed95839"
      },
      "outputs": [
        {
          "output_type": "stream",
          "name": "stdout",
          "text": [
            "SNEHA RAJPUT\n"
          ]
        }
      ],
      "source": [
        "print(\"SNEHA RAJPUT\")"
      ]
    },
    {
      "cell_type": "code",
      "source": [
        "print(len(\"hello world\"))"
      ],
      "metadata": {
        "colab": {
          "base_uri": "https://localhost:8080/"
        },
        "id": "nldLyjrdRA3G",
        "outputId": "b7375615-db7d-4c41-bf45-9988c6faace1"
      },
      "execution_count": null,
      "outputs": [
        {
          "output_type": "stream",
          "name": "stdout",
          "text": [
            "11\n"
          ]
        }
      ]
    },
    {
      "cell_type": "code",
      "source": [
        "hello_string = \"python programming\"\n",
        "str_slice = hello_string[0:3]\n",
        "print(str_slice)"
      ],
      "metadata": {
        "colab": {
          "base_uri": "https://localhost:8080/"
        },
        "id": "EzcR1eMfSTif",
        "outputId": "5b77d958-9da2-49f4-b97c-0ba2b158e7ce"
      },
      "execution_count": null,
      "outputs": [
        {
          "output_type": "stream",
          "name": "stdout",
          "text": [
            "pyt\n"
          ]
        }
      ]
    },
    {
      "cell_type": "code",
      "source": [
        "lower_case= \"hello\"\n",
        "print(lower_case.upper())\n"
      ],
      "metadata": {
        "colab": {
          "base_uri": "https://localhost:8080/"
        },
        "id": "0hnT6DTmT1Sk",
        "outputId": "280308d3-abe3-4791-952f-d4d9fafca141"
      },
      "execution_count": null,
      "outputs": [
        {
          "output_type": "stream",
          "name": "stdout",
          "text": [
            "HELLO\n"
          ]
        }
      ]
    },
    {
      "cell_type": "code",
      "source": [
        "str1=\"I LIKE APPLE\"\n",
        "print(str1.replace(\"APPLE\",\"ORANGE\"))"
      ],
      "metadata": {
        "colab": {
          "base_uri": "https://localhost:8080/"
        },
        "id": "W_AtHlisUZk5",
        "outputId": "b69fbc47-0ebe-4318-b05f-8a3cb7e34868"
      },
      "execution_count": null,
      "outputs": [
        {
          "output_type": "stream",
          "name": "stdout",
          "text": [
            "I LIKE ORANGE\n"
          ]
        }
      ]
    },
    {
      "cell_type": "code",
      "source": [
        "list1=[1,2,3,4,5]\n",
        "print(list1)"
      ],
      "metadata": {
        "colab": {
          "base_uri": "https://localhost:8080/"
        },
        "id": "1Qc3VMypU1Bn",
        "outputId": "0da9db91-62b5-416b-9747-f13726398926"
      },
      "execution_count": null,
      "outputs": [
        {
          "output_type": "stream",
          "name": "stdout",
          "text": [
            "[1, 2, 3, 4, 5]\n"
          ]
        }
      ]
    },
    {
      "cell_type": "code",
      "source": [
        "list1=[1,2,3,4]\n",
        "list1.append(10)\n",
        "print(list1)"
      ],
      "metadata": {
        "colab": {
          "base_uri": "https://localhost:8080/"
        },
        "id": "YVeXsGE6VdqI",
        "outputId": "414ba567-f6cf-48ff-d4c1-d588e31b574c"
      },
      "execution_count": null,
      "outputs": [
        {
          "output_type": "stream",
          "name": "stdout",
          "text": [
            "[1, 2, 3, 4, 10]\n"
          ]
        }
      ]
    },
    {
      "cell_type": "code",
      "source": [
        "list1=[1,2,3,4,5]\n",
        "list1.remove(3)\n",
        "print(list1)"
      ],
      "metadata": {
        "colab": {
          "base_uri": "https://localhost:8080/"
        },
        "id": "vP9ZEof1WF4Z",
        "outputId": "a255ab03-fc7e-4c10-8ef8-a449838ceed6"
      },
      "execution_count": null,
      "outputs": [
        {
          "output_type": "stream",
          "name": "stdout",
          "text": [
            "[1, 2, 4, 5]\n"
          ]
        }
      ]
    },
    {
      "cell_type": "code",
      "source": [
        "list1=[\"a\",\"b\",\"c\",\"d\"]\n",
        "print(list1[1])"
      ],
      "metadata": {
        "colab": {
          "base_uri": "https://localhost:8080/"
        },
        "id": "wR_sBpzzWbTp",
        "outputId": "a836a715-c7ad-4cec-c0b6-1989297ddb59"
      },
      "execution_count": null,
      "outputs": [
        {
          "output_type": "stream",
          "name": "stdout",
          "text": [
            "b\n"
          ]
        }
      ]
    },
    {
      "cell_type": "code",
      "source": [
        "list1=[10,20,30,40,50]\n",
        "list2=list1[::-1]\n",
        "print(list2)"
      ],
      "metadata": {
        "colab": {
          "base_uri": "https://localhost:8080/"
        },
        "id": "aR1zsqwsW_MB",
        "outputId": "f8d90727-e9a2-42ff-9c6e-7619116dde49"
      },
      "execution_count": null,
      "outputs": [
        {
          "output_type": "stream",
          "name": "stdout",
          "text": [
            "[50, 40, 30, 20, 10]\n"
          ]
        }
      ]
    },
    {
      "cell_type": "code",
      "source": [
        "tuple1=(100,200,300)\n",
        "print(tuple1)"
      ],
      "metadata": {
        "colab": {
          "base_uri": "https://localhost:8080/"
        },
        "id": "rD-TURvnXUzc",
        "outputId": "f90f5b9e-39ad-4ceb-dd3d-21b437a731a2"
      },
      "execution_count": null,
      "outputs": [
        {
          "output_type": "stream",
          "name": "stdout",
          "text": [
            "(100, 200, 300)\n"
          ]
        }
      ]
    },
    {
      "cell_type": "code",
      "source": [
        "tuple1=(\"red\",\"green\",\"blue\",\"yellow\")\n",
        "print(tuple1[len(tuple1)-2])"
      ],
      "metadata": {
        "colab": {
          "base_uri": "https://localhost:8080/"
        },
        "id": "4UKrG4m8YELJ",
        "outputId": "c72c1403-0461-4b42-a488-137037da0e62"
      },
      "execution_count": null,
      "outputs": [
        {
          "output_type": "stream",
          "name": "stdout",
          "text": [
            "blue\n"
          ]
        }
      ]
    },
    {
      "cell_type": "code",
      "source": [
        "list1=[10,20,5,15]\n",
        "list1.sort()\n",
        "print(list1[len(list1)-1])"
      ],
      "metadata": {
        "colab": {
          "base_uri": "https://localhost:8080/"
        },
        "id": "W4JctzFgZIXt",
        "outputId": "02b8a15a-293f-431b-da8e-b4d1269cd7ae"
      },
      "execution_count": null,
      "outputs": [
        {
          "output_type": "stream",
          "name": "stdout",
          "text": [
            "20\n"
          ]
        }
      ]
    },
    {
      "cell_type": "code",
      "source": [
        "tuple1=('dog','cat','rabbit')\n",
        "print(tuple1.index(\"cat\"))"
      ],
      "metadata": {
        "colab": {
          "base_uri": "https://localhost:8080/"
        },
        "id": "saGni5jkavPP",
        "outputId": "29a5c1ae-f743-4092-ddcc-bb07696d796e"
      },
      "execution_count": null,
      "outputs": [
        {
          "output_type": "stream",
          "name": "stdout",
          "text": [
            "1\n"
          ]
        }
      ]
    },
    {
      "cell_type": "code",
      "source": [
        "tuple1=('apple','orange','grapes','plum','banana')\n",
        "print(\"kiwi\" in tuple1)"
      ],
      "metadata": {
        "colab": {
          "base_uri": "https://localhost:8080/"
        },
        "id": "UMoVKgUKcI25",
        "outputId": "9547513d-70f0-4fef-ddb4-fd770f7c30fa"
      },
      "execution_count": null,
      "outputs": [
        {
          "output_type": "stream",
          "name": "stdout",
          "text": [
            "False\n"
          ]
        }
      ]
    },
    {
      "cell_type": "code",
      "source": [
        "set1={'a','b','c'}\n",
        "print(set1)"
      ],
      "metadata": {
        "colab": {
          "base_uri": "https://localhost:8080/"
        },
        "id": "z_rZfyXRc1-f",
        "outputId": "719ef48b-8df6-4267-8895-e426f2f536e7"
      },
      "execution_count": null,
      "outputs": [
        {
          "output_type": "stream",
          "name": "stdout",
          "text": [
            "{'b', 'a', 'c'}\n"
          ]
        }
      ]
    },
    {
      "cell_type": "code",
      "source": [
        "set1={1,2,3,4,5}\n",
        "set1.clear()\n",
        "print(set1)"
      ],
      "metadata": {
        "colab": {
          "base_uri": "https://localhost:8080/"
        },
        "id": "bVhza1TzdKhM",
        "outputId": "4ea78479-867b-4e58-ab53-a50d3c18509f"
      },
      "execution_count": null,
      "outputs": [
        {
          "output_type": "stream",
          "name": "stdout",
          "text": [
            "set()\n"
          ]
        }
      ]
    },
    {
      "cell_type": "code",
      "source": [
        "set1={1,2,3,4}\n",
        "set1.remove(4)\n",
        "print(set1)"
      ],
      "metadata": {
        "colab": {
          "base_uri": "https://localhost:8080/"
        },
        "id": "nqDtuqp9ddPg",
        "outputId": "473f6df7-6a11-4422-a10d-b51f72c823bc"
      },
      "execution_count": null,
      "outputs": [
        {
          "output_type": "stream",
          "name": "stdout",
          "text": [
            "{1, 2, 3}\n"
          ]
        }
      ]
    },
    {
      "cell_type": "code",
      "source": [
        "set1={1,2,3}\n",
        "set2={3,4,5}\n",
        "print(set1.union(set2))"
      ],
      "metadata": {
        "colab": {
          "base_uri": "https://localhost:8080/"
        },
        "id": "RmSdFlPieIgR",
        "outputId": "9cabd173-e561-4d6e-fa1a-e3b8752629c8"
      },
      "execution_count": null,
      "outputs": [
        {
          "output_type": "stream",
          "name": "stdout",
          "text": [
            "{1, 2, 3, 4, 5}\n"
          ]
        }
      ]
    },
    {
      "cell_type": "code",
      "source": [
        "set1={1,2,3}\n",
        "set2={2,3,4}\n",
        "print(set1.intersection(set2))\n"
      ],
      "metadata": {
        "colab": {
          "base_uri": "https://localhost:8080/"
        },
        "id": "3nDKueexepUj",
        "outputId": "b904e765-b245-4564-e14d-436eb5980790"
      },
      "execution_count": null,
      "outputs": [
        {
          "output_type": "stream",
          "name": "stdout",
          "text": [
            "{2, 3}\n"
          ]
        }
      ]
    },
    {
      "cell_type": "code",
      "source": [
        "dict1 = {\"name\":\"sneha\",\"age\":23,\"city\":\"Lucknow\"}  # key:value pairs\n",
        "print(dict1)\n",
        "\n"
      ],
      "metadata": {
        "id": "5VkKRb8ye_Y_",
        "colab": {
          "base_uri": "https://localhost:8080/"
        },
        "outputId": "77689eda-5677-42c2-94aa-f5aa9d0f2f72"
      },
      "execution_count": null,
      "outputs": [
        {
          "output_type": "stream",
          "name": "stdout",
          "text": [
            "{'name': 'sneha', 'age': 23, 'city': 'Lucknow'}\n",
            "<class 'dict'>\n"
          ]
        }
      ]
    },
    {
      "cell_type": "code",
      "source": [
        "dict1={\"name\":\"John\",\"age\":25}\n",
        "dict1[\"country\"] = \"USA\"\n",
        "print(dict1)"
      ],
      "metadata": {
        "colab": {
          "base_uri": "https://localhost:8080/"
        },
        "id": "0LUw2EXPCRra",
        "outputId": "b04ff380-4062-401f-dc0f-b6c6cc575d91"
      },
      "execution_count": null,
      "outputs": [
        {
          "output_type": "stream",
          "name": "stdout",
          "text": [
            "{'name': 'John', 'age': 25, 'country': 'USA'}\n"
          ]
        }
      ]
    },
    {
      "cell_type": "code",
      "source": [
        "dict1={\"name\":\"alice\",\"age\":30,}\n",
        "print(dict1[\"name\"])"
      ],
      "metadata": {
        "colab": {
          "base_uri": "https://localhost:8080/"
        },
        "id": "RRaDG5XaDjui",
        "outputId": "d8b565c1-f7eb-4134-f919-d88fd63e2dc4"
      },
      "execution_count": null,
      "outputs": [
        {
          "output_type": "stream",
          "name": "stdout",
          "text": [
            "alice\n"
          ]
        }
      ]
    },
    {
      "cell_type": "code",
      "source": [
        "dict1={\"name\":\"Bob\",\"age\":23,\"city\":\"New York\"}\n",
        "dict1.pop(\"age\")\n",
        "print(dict1)"
      ],
      "metadata": {
        "colab": {
          "base_uri": "https://localhost:8080/"
        },
        "id": "OnpZ1K9TFcVz",
        "outputId": "10fb9288-db9f-4bbe-8acd-c23aef4f3c93"
      },
      "execution_count": null,
      "outputs": [
        {
          "output_type": "stream",
          "name": "stdout",
          "text": [
            "{'name': 'Bob', 'city': 'New York'}\n"
          ]
        }
      ]
    },
    {
      "cell_type": "code",
      "source": [
        "l1=[1,2,3,4,5,6]\n",
        "t1=(1,2,3,4,5,6)\n",
        "d1={\"a\":1,\"b\":2,\"c\":3,\"d\":4,\"e\":5}\n",
        "print(l1,\"\\n\",t1,\"\\n\",d1)"
      ],
      "metadata": {
        "colab": {
          "base_uri": "https://localhost:8080/"
        },
        "id": "lbDpSePbIg8R",
        "outputId": "f816de2b-2fcd-4693-e8a0-7e5a4580e738"
      },
      "execution_count": null,
      "outputs": [
        {
          "output_type": "stream",
          "name": "stdout",
          "text": [
            "[1, 2, 3, 4, 5, 6] \n",
            " (1, 2, 3, 4, 5, 6) \n",
            " {'a': 1, 'b': 2, 'c': 3, 'd': 4, 'e': 5}\n"
          ]
        }
      ]
    },
    {
      "cell_type": "code",
      "source": [
        "dict1={\"name\":\"Alice\",\"city\":\"Paris\"}\n",
        "if \"city\" in dict1.keys():\n",
        "  print(True)\n",
        "else:\n",
        "  print(False)"
      ],
      "metadata": {
        "colab": {
          "base_uri": "https://localhost:8080/"
        },
        "id": "aV8Aj6RyD_x7",
        "outputId": "8c32c42a-ca94-4a61-9b02-8eaa36d82a37"
      },
      "execution_count": null,
      "outputs": [
        {
          "output_type": "stream",
          "name": "stdout",
          "text": [
            "True\n"
          ]
        }
      ]
    },
    {
      "cell_type": "code",
      "source": [
        "import random\n",
        "l1=[]\n",
        "for i in range(0,5):\n",
        "  l1.append(random.randint(1,100))\n",
        "print(sorted(l1))  #sorted() returns a new sorted list but doesn't change the original list"
      ],
      "metadata": {
        "colab": {
          "base_uri": "https://localhost:8080/"
        },
        "id": "eG641_d0EF9C",
        "outputId": "028410c6-c3f9-4d68-ae6a-ce013c94f7a8"
      },
      "execution_count": null,
      "outputs": [
        {
          "output_type": "stream",
          "name": "stdout",
          "text": [
            "[22, 35, 41, 76, 99]\n",
            "[22, 76, 35, 99, 41]\n",
            "[22, 35, 41, 76, 99]\n"
          ]
        }
      ]
    },
    {
      "cell_type": "code",
      "source": [
        "l1=[\"john\",\"alice\",\"bob\",\"patrick\",\"patricia\"]\n",
        "print(l1[3])"
      ],
      "metadata": {
        "colab": {
          "base_uri": "https://localhost:8080/"
        },
        "id": "JV93HVL_Mfmr",
        "outputId": "0e35174c-f087-4050-e196-b46841404bb5"
      },
      "execution_count": null,
      "outputs": [
        {
          "output_type": "stream",
          "name": "stdout",
          "text": [
            "patrick\n"
          ]
        }
      ]
    },
    {
      "cell_type": "code",
      "source": [
        "dict1={\"name\":\"sneha\",\"age\":23}\n",
        "dict2={\"city\":\"lucknow\"}\n",
        "\n",
        "merged = dict1 | dict2\n",
        "print(merged)"
      ],
      "metadata": {
        "colab": {
          "base_uri": "https://localhost:8080/"
        },
        "id": "sjvXSfaANFhp",
        "outputId": "a666ab3d-e61d-4830-8def-23f13ce5d710"
      },
      "execution_count": null,
      "outputs": [
        {
          "output_type": "stream",
          "name": "stdout",
          "text": [
            "{'name': 'sneha', 'age': 23, 'city': 'lucknow'}\n"
          ]
        }
      ]
    },
    {
      "cell_type": "code",
      "source": [
        "l1=[\"sneha\",\"mayur\",\"anjali\",\"muskaan\"]\n",
        "s1=set(l1)\n",
        "print(s1)"
      ],
      "metadata": {
        "colab": {
          "base_uri": "https://localhost:8080/"
        },
        "id": "I_I7PPa0OIQW",
        "outputId": "1d16fde3-39b3-48eb-e6ec-a92f4e7dd117"
      },
      "execution_count": null,
      "outputs": [
        {
          "output_type": "stream",
          "name": "stdout",
          "text": [
            "{'sneha', 'muskaan', 'anjali', 'mayur'}\n"
          ]
        }
      ]
    }
  ]
}