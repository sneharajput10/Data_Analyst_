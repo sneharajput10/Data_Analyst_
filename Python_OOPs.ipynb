{
  "cells": [
    {
      "cell_type": "markdown",
      "metadata": {
        "id": "view-in-github",
        "colab_type": "text"
      },
      "source": [
        "<a href=\"https://colab.research.google.com/github/sneharajput10/Data_Analyst_/blob/main/Python_OOPs.ipynb\" target=\"_parent\"><img src=\"https://colab.research.google.com/assets/colab-badge.svg\" alt=\"Open In Colab\"/></a>"
      ]
    },
    {
      "cell_type": "markdown",
      "source": [
        "#THEORY ANSWERS"
      ],
      "metadata": {
        "id": "yjrEOJu6u58h"
      }
    },
    {
      "cell_type": "markdown",
      "source": [
        "#1. What is Object-Oriented Programming (OOP)?\n"
      ],
      "metadata": {
        "id": "VAbwOJygvIZB"
      }
    },
    {
      "cell_type": "markdown",
      "source": [
        "OOP is a programming paradigm that organizes code into objects. Objects combine data (attributes) and methods (functions) that work on the data.\n",
        "\n"
      ],
      "metadata": {
        "id": "d7gp_z18wTJp"
      }
    },
    {
      "cell_type": "code",
      "source": [
        "#Example:\n",
        "\n",
        "class Car:\n",
        "    def __init__(self, brand, color):\n",
        "        self.brand = brand\n",
        "        self.color = color\n",
        "\n",
        "    def drive(self):\n",
        "        print(f\"{self.color} {self.brand} is driving.\")\n",
        "\n",
        "car1 = Car(\"BMW\", \"Black\")\n",
        "car1.drive()\n"
      ],
      "metadata": {
        "id": "hBSURBxHwh9Q",
        "outputId": "1a7dc505-8041-40dd-f8ef-f33a2de8523a",
        "colab": {
          "base_uri": "https://localhost:8080/"
        }
      },
      "execution_count": null,
      "outputs": [
        {
          "output_type": "stream",
          "name": "stdout",
          "text": [
            "Black BMW is driving.\n"
          ]
        }
      ]
    },
    {
      "cell_type": "markdown",
      "source": [
        "#2. What is a class in OOP?"
      ],
      "metadata": {
        "id": "tmGcB3OHwvOi"
      }
    },
    {
      "cell_type": "markdown",
      "source": [
        "A class is a blueprint for creating objects."
      ],
      "metadata": {
        "id": "wVm8NPKnw6Uo"
      }
    },
    {
      "cell_type": "code",
      "source": [
        "class Dog:\n",
        "    def __init__(self, name):\n",
        "        self.name = name\n",
        "\n",
        "    def bark(self):\n",
        "        print(f\"{self.name} is barking!\")\n"
      ],
      "metadata": {
        "id": "utlxw2dtw_jk"
      },
      "execution_count": null,
      "outputs": []
    },
    {
      "cell_type": "markdown",
      "source": [
        "#3. What is an object in OOP?"
      ],
      "metadata": {
        "id": "cROTBtPVxKQe"
      }
    },
    {
      "cell_type": "markdown",
      "source": [
        "An object is an instance of a class."
      ],
      "metadata": {
        "id": "hsmSTACnxPeP"
      }
    },
    {
      "cell_type": "code",
      "source": [
        "dog1 = Dog(\"Tommy\")  # object created\n",
        "dog1.bark()\n"
      ],
      "metadata": {
        "id": "-UPQrCrAxSnk",
        "outputId": "94dfff3c-ce87-4b71-9d26-8229aa8da064",
        "colab": {
          "base_uri": "https://localhost:8080/"
        }
      },
      "execution_count": null,
      "outputs": [
        {
          "output_type": "stream",
          "name": "stdout",
          "text": [
            "Tommy is barking!\n"
          ]
        }
      ]
    },
    {
      "cell_type": "markdown",
      "source": [
        "#4. Difference between Abstraction and Encapsulation"
      ],
      "metadata": {
        "id": "1t21wihRxWf4"
      }
    },
    {
      "cell_type": "markdown",
      "source": [
        "Abstraction: Hides implementation details, shows only necessary info.\n",
        "\n",
        "Encapsulation: Binds data & methods, restricts direct access."
      ],
      "metadata": {
        "id": "BgRzuBCexbox"
      }
    },
    {
      "cell_type": "code",
      "source": [
        "# Abstraction Example\n",
        "from abc import ABC, abstractmethod\n",
        "\n",
        "class Shape(ABC):\n",
        "    @abstractmethod\n",
        "    def area(self):\n",
        "        pass\n",
        "\n",
        "class Circle(Shape):\n",
        "    def __init__(self, r): self.r = r\n",
        "    def area(self): return 3.14 * self.r * self.r\n",
        "\n",
        "c = Circle(5)\n",
        "print(c.area())  # Only 'area' method exposed\n"
      ],
      "metadata": {
        "id": "IFXJyIjExeZe",
        "outputId": "e989f968-0201-458a-8fa8-55e3489022f8",
        "colab": {
          "base_uri": "https://localhost:8080/"
        }
      },
      "execution_count": null,
      "outputs": [
        {
          "output_type": "stream",
          "name": "stdout",
          "text": [
            "78.5\n"
          ]
        }
      ]
    },
    {
      "cell_type": "code",
      "source": [
        "# Encapsulation Example\n",
        "class Student:\n",
        "    def __init__(self, name, marks):\n",
        "        self.__marks = marks  # private variable\n",
        "        self.name = name\n",
        "\n",
        "    def get_marks(self):\n",
        "        return self.__marks  # controlled access\n"
      ],
      "metadata": {
        "id": "aMRxmLaCxkmV"
      },
      "execution_count": null,
      "outputs": []
    },
    {
      "cell_type": "markdown",
      "source": [
        "#5. What are dunder methods in Python?"
      ],
      "metadata": {
        "id": "NwIdImz1xp0j"
      }
    },
    {
      "cell_type": "markdown",
      "source": [
        "\"Dunder\" = Double Underscore. Special methods that customize objects.(e.g., __init__, __str__, __len__). They allow operator overloading and object customization."
      ],
      "metadata": {
        "id": "DXQHM-85xtYg"
      }
    },
    {
      "cell_type": "code",
      "source": [
        "class Book:\n",
        "    def __init__(self, title):\n",
        "        self.title = title\n",
        "\n",
        "    def __str__(self):\n",
        "        return f\"Book: {self.title}\"\n",
        "\n",
        "b = Book(\"Python Guide\")\n",
        "print(b)  # calls __str__\n"
      ],
      "metadata": {
        "id": "HhprhspJxxeq",
        "outputId": "cfffacdd-ed2f-414f-840d-1a97794a2a60",
        "colab": {
          "base_uri": "https://localhost:8080/"
        }
      },
      "execution_count": null,
      "outputs": [
        {
          "output_type": "stream",
          "name": "stdout",
          "text": [
            "Book: Python Guide\n"
          ]
        }
      ]
    },
    {
      "cell_type": "markdown",
      "source": [
        "#6. Explain inheritance in OOP"
      ],
      "metadata": {
        "id": "5HZcbdkwx1rj"
      }
    },
    {
      "cell_type": "markdown",
      "source": [
        "A mechanism to reuse code by allowing one class (child) to acquire properties and methods of another class (parent)."
      ],
      "metadata": {
        "id": "lFNol0IayALT"
      }
    },
    {
      "cell_type": "code",
      "source": [
        "class Animal:\n",
        "    def sound(self):\n",
        "        print(\"Some sound\")\n",
        "\n",
        "class Dog(Animal):\n",
        "    def sound(self):\n",
        "        print(\"Bark\")\n",
        "\n",
        "dog = Dog()\n",
        "dog.sound()\n"
      ],
      "metadata": {
        "id": "PoXPeERQyFfy",
        "outputId": "a67b59c3-bc1d-4fc9-fceb-87efb3e5ed02",
        "colab": {
          "base_uri": "https://localhost:8080/"
        }
      },
      "execution_count": null,
      "outputs": [
        {
          "output_type": "stream",
          "name": "stdout",
          "text": [
            "Bark\n"
          ]
        }
      ]
    },
    {
      "cell_type": "markdown",
      "source": [
        "#7. What is polymorphism in OOP?"
      ],
      "metadata": {
        "id": "CINkcuRCyJIP"
      }
    },
    {
      "cell_type": "markdown",
      "source": [
        "The ability to use a single interface for different data types (e.g., same method name but different behaviors)."
      ],
      "metadata": {
        "id": "WTxn5AVPyMth"
      }
    },
    {
      "cell_type": "code",
      "source": [
        "class Cat:\n",
        "    def sound(self): print(\"Meow\")\n",
        "\n",
        "class Dog:\n",
        "    def sound(self): print(\"Bark\")\n",
        "\n",
        "for animal in (Cat(), Dog()):\n",
        "    animal.sound()\n"
      ],
      "metadata": {
        "id": "V-ksjSRUyP8D",
        "outputId": "3441de84-74c7-42a4-d731-62020b3b7863",
        "colab": {
          "base_uri": "https://localhost:8080/"
        }
      },
      "execution_count": null,
      "outputs": [
        {
          "output_type": "stream",
          "name": "stdout",
          "text": [
            "Meow\n",
            "Bark\n"
          ]
        }
      ]
    },
    {
      "cell_type": "markdown",
      "source": [
        "#8. How is encapsulation achieved in Python?"
      ],
      "metadata": {
        "id": "QdCyoaqByTP-"
      }
    },
    {
      "cell_type": "markdown",
      "source": [
        "Using private attributes (__var) and providing getters/setters."
      ],
      "metadata": {
        "id": "kQwaFFiTyWaU"
      }
    },
    {
      "cell_type": "code",
      "source": [
        "class BankAccount:\n",
        "    def __init__(self, balance):\n",
        "        self.__balance = balance  # private\n",
        "\n",
        "    def get_balance(self): return self.__balance\n",
        "    def deposit(self, amount): self.__balance += amount\n"
      ],
      "metadata": {
        "id": "4B91BCEryZwO"
      },
      "execution_count": null,
      "outputs": []
    },
    {
      "cell_type": "markdown",
      "source": [
        "#9. What is a constructor in Python?"
      ],
      "metadata": {
        "id": "1O5hLewOydWn"
      }
    },
    {
      "cell_type": "markdown",
      "source": [
        "Constructor = __init__ method, called automatically when an object is created."
      ],
      "metadata": {
        "id": "RcHlbThiygiW"
      }
    },
    {
      "cell_type": "code",
      "source": [
        "class Person:\n",
        "    def __init__(self, name):\n",
        "        self.name = name\n",
        "\n",
        "p = Person(\"Sneha\")\n",
        "print(p.name)\n"
      ],
      "metadata": {
        "id": "mC8JzKSQyimi",
        "outputId": "d38fc06d-30de-4ffe-b1dd-7044d420aa23",
        "colab": {
          "base_uri": "https://localhost:8080/"
        }
      },
      "execution_count": null,
      "outputs": [
        {
          "output_type": "stream",
          "name": "stdout",
          "text": [
            "Sneha\n"
          ]
        }
      ]
    },
    {
      "cell_type": "markdown",
      "source": [
        "#10. What are Class vs Static methods in Python?"
      ],
      "metadata": {
        "id": "kTB7OXcRynUJ"
      }
    },
    {
      "cell_type": "markdown",
      "source": [
        "Class method: Defined with @classmethod, takes cls as the first parameter. Works with the class.\n",
        "\n",
        "Static method: Defined with @staticmethod, does not take self/cls. Works independently."
      ],
      "metadata": {
        "id": "BIk35A4o18F2"
      }
    },
    {
      "cell_type": "code",
      "source": [
        "class Example:\n",
        "    x = 10\n",
        "\n",
        "    @classmethod\n",
        "    def class_method(cls):\n",
        "        return cls.x  # works on class variable\n",
        "\n",
        "    @staticmethod\n",
        "    def static_method(a, b):\n",
        "        return a + b  # no self/cls\n"
      ],
      "metadata": {
        "id": "5nI__dr6yy_J"
      },
      "execution_count": null,
      "outputs": []
    },
    {
      "cell_type": "markdown",
      "source": [
        "#11. What is Method overloading in Python?"
      ],
      "metadata": {
        "id": "tKLgGrq9y12o"
      }
    },
    {
      "cell_type": "markdown",
      "source": [
        "Python does not support true method overloading. It can be achieved using default arguments or *args."
      ],
      "metadata": {
        "id": "BRXtzf5Dy-qn"
      }
    },
    {
      "cell_type": "code",
      "source": [
        "class Math:\n",
        "    def add(self, a, b=0):\n",
        "        return a + b\n",
        "\n",
        "m = Math()\n",
        "print(m.add(5))       # 5\n",
        "print(m.add(5, 10))   # 15\n"
      ],
      "metadata": {
        "id": "inmXPB1LzBXv",
        "outputId": "969f5467-f46c-431c-ab1a-7d2b973be866",
        "colab": {
          "base_uri": "https://localhost:8080/"
        }
      },
      "execution_count": null,
      "outputs": [
        {
          "output_type": "stream",
          "name": "stdout",
          "text": [
            "5\n",
            "15\n"
          ]
        }
      ]
    },
    {
      "cell_type": "markdown",
      "source": [
        "#12. What is Method overriding in OOPs?"
      ],
      "metadata": {
        "id": "bWRY6qo2zE70"
      }
    },
    {
      "cell_type": "markdown",
      "source": [
        "When a child class defines a method with the same name as the parent class, it overrides the parent’s version."
      ],
      "metadata": {
        "id": "03Ex5jZpzJv-"
      }
    },
    {
      "cell_type": "code",
      "source": [
        "class Parent:\n",
        "    def greet(self): print(\"Hello from Parent\")\n",
        "\n",
        "class Child(Parent):\n",
        "    def greet(self): print(\"Hello from Child\")\n",
        "\n",
        "c = Child()\n",
        "c.greet()\n"
      ],
      "metadata": {
        "id": "EuNwTAKZzOaM",
        "outputId": "692b30f7-f009-485f-ad1c-515c1357ff52",
        "colab": {
          "base_uri": "https://localhost:8080/"
        }
      },
      "execution_count": null,
      "outputs": [
        {
          "output_type": "stream",
          "name": "stdout",
          "text": [
            "Hello from Child\n"
          ]
        }
      ]
    },
    {
      "cell_type": "markdown",
      "source": [
        "#13. What is Property decorator in Python?\n"
      ],
      "metadata": {
        "id": "feilY1byzaQf"
      }
    },
    {
      "cell_type": "markdown",
      "source": [
        "@property is used to make a method act like an attribute, providing controlled access to private variables."
      ],
      "metadata": {
        "id": "iID_Q7_XzfZ5"
      }
    },
    {
      "cell_type": "code",
      "source": [
        "class Student:\n",
        "    def __init__(self, marks): self.__marks = marks\n",
        "\n",
        "    @property\n",
        "    def marks(self): return self.__marks\n",
        "\n",
        "    @marks.setter\n",
        "    def marks(self, value): self.__marks = value\n",
        "\n",
        "s = Student(90)\n",
        "print(s.marks)  # getter\n",
        "s.marks = 95    # setter\n"
      ],
      "metadata": {
        "id": "4tPk0JZKzi52",
        "outputId": "bb8f63b8-8cac-4861-ec13-c4457620fab4",
        "colab": {
          "base_uri": "https://localhost:8080/"
        }
      },
      "execution_count": null,
      "outputs": [
        {
          "output_type": "stream",
          "name": "stdout",
          "text": [
            "90\n"
          ]
        }
      ]
    },
    {
      "cell_type": "markdown",
      "source": [
        "#14. Why is polymorphism important?"
      ],
      "metadata": {
        "id": "z_Z1JE7Uzl9-"
      }
    },
    {
      "cell_type": "markdown",
      "source": [
        "Because it makes code flexible, reusable, and maintainable."
      ],
      "metadata": {
        "id": "-CP74aMZzsKb"
      }
    },
    {
      "cell_type": "markdown",
      "source": [
        "#15. What is an Abstract class in Python?\n"
      ],
      "metadata": {
        "id": "bdti6UdBzwQi"
      }
    },
    {
      "cell_type": "markdown",
      "source": [
        "A class with one or more abstract methods (declared but not implemented). Defined using abc module."
      ],
      "metadata": {
        "id": "NjXjZ-rkz8vL"
      }
    },
    {
      "cell_type": "code",
      "source": [
        "from abc import ABC, abstractmethod\n",
        "\n",
        "class Shape(ABC):\n",
        "    @abstractmethod\n",
        "    def area(self): pass\n"
      ],
      "metadata": {
        "id": "x1yiOMNR0AAm"
      },
      "execution_count": null,
      "outputs": []
    },
    {
      "cell_type": "markdown",
      "source": [
        "#16. Advantages of OOP"
      ],
      "metadata": {
        "id": "3ocQstH40CUW"
      }
    },
    {
      "cell_type": "markdown",
      "source": [
        "\n",
        "* Code reusability\n",
        "\n",
        "* Data security\n",
        "\n",
        "* Easier debugging\n",
        "\n",
        "* Real-world modeling"
      ],
      "metadata": {
        "id": "rzKG_1Hs0GJr"
      }
    },
    {
      "cell_type": "markdown",
      "source": [
        "#17. Class vs Instance variable"
      ],
      "metadata": {
        "id": "B6P_vD4k0MjP"
      }
    },
    {
      "cell_type": "markdown",
      "source": [
        "* Class variable: Shared by all objects of a class.\n",
        "\n",
        "* Instance variable: Unique for each object."
      ],
      "metadata": {
        "id": "gbh6wi_X0PxX"
      }
    },
    {
      "cell_type": "code",
      "source": [
        "class Example:\n",
        "    class_var = \"Shared\"\n",
        "\n",
        "    def __init__(self, name):\n",
        "        self.instance_var = name  # unique per object\n",
        "\n",
        "a = Example(\"A\")\n",
        "b = Example(\"B\")\n",
        "\n",
        "print(a.class_var, b.class_var)    # Shared Shared\n",
        "print(a.instance_var, b.instance_var)  # A B\n"
      ],
      "metadata": {
        "id": "fiaBhJZi0WZM",
        "outputId": "67c70b88-aa50-4f1d-dcd2-a566e9b03088",
        "colab": {
          "base_uri": "https://localhost:8080/"
        }
      },
      "execution_count": null,
      "outputs": [
        {
          "output_type": "stream",
          "name": "stdout",
          "text": [
            "Shared Shared\n",
            "A B\n"
          ]
        }
      ]
    },
    {
      "cell_type": "markdown",
      "source": [
        "#18. Multiple inheritance"
      ],
      "metadata": {
        "id": "JElw8qM40YfT"
      }
    },
    {
      "cell_type": "markdown",
      "source": [
        "A class can inherit from multiple parent classes."
      ],
      "metadata": {
        "id": "duPKlvFD0cAY"
      }
    },
    {
      "cell_type": "code",
      "source": [
        "class A: pass\n",
        "class B: pass\n",
        "class C(A, B): pass\n"
      ],
      "metadata": {
        "id": "ZwAvxVG00ewW"
      },
      "execution_count": null,
      "outputs": []
    },
    {
      "cell_type": "markdown",
      "source": [
        "#19. Purpose of __str__ vs __repr__"
      ],
      "metadata": {
        "id": "C4POTzt00gcW"
      }
    },
    {
      "cell_type": "markdown",
      "source": [
        "*  __str__: User-friendly string representation (print(obj)).\n",
        "\n",
        "*  __repr__: Official string representation (used by repr(obj))."
      ],
      "metadata": {
        "id": "iPoM115_0j1w"
      }
    },
    {
      "cell_type": "code",
      "source": [
        "class Book:\n",
        "    def __str__(self): return \"User friendly\"\n",
        "    def __repr__(self): return \"Developer friendly\"\n",
        "\n",
        "print(str(Book()))   # User friendly\n",
        "print(repr(Book()))  # Developer friendly\n"
      ],
      "metadata": {
        "id": "7QTQq-8B0lRi",
        "outputId": "a2955c76-9a75-4693-e5a4-5384e49bd5d9",
        "colab": {
          "base_uri": "https://localhost:8080/"
        }
      },
      "execution_count": null,
      "outputs": [
        {
          "output_type": "stream",
          "name": "stdout",
          "text": [
            "User friendly\n",
            "Developer friendly\n"
          ]
        }
      ]
    },
    {
      "cell_type": "markdown",
      "source": [
        "#20. What is the significance of the 'super()' function in Python?"
      ],
      "metadata": {
        "id": "5RAu-IAS0nep"
      }
    },
    {
      "cell_type": "markdown",
      "source": [
        "Calls parent class methods, useful in inheritance."
      ],
      "metadata": {
        "id": "E4aa2FfY0rKo"
      }
    },
    {
      "cell_type": "code",
      "source": [
        "class Parent:\n",
        "    def show(self): print(\"Parent\")\n",
        "class Child(Parent):\n",
        "    def show(self):\n",
        "        super().show()\n",
        "        print(\"Child\")\n",
        "\n",
        "Child().show()\n"
      ],
      "metadata": {
        "id": "wOrHPbem0uMv",
        "outputId": "8b95c90e-f63d-4b20-a5d5-8acb865fa8b7",
        "colab": {
          "base_uri": "https://localhost:8080/"
        }
      },
      "execution_count": null,
      "outputs": [
        {
          "output_type": "stream",
          "name": "stdout",
          "text": [
            "Parent\n",
            "Child\n"
          ]
        }
      ]
    },
    {
      "cell_type": "markdown",
      "source": [
        "#21. What is the significance of the __del__ method in Python?"
      ],
      "metadata": {
        "id": "n8vZc8TV0xb2"
      }
    },
    {
      "cell_type": "markdown",
      "source": [
        "Destructor method. Called when an object is destroyed (used for cleanup)."
      ],
      "metadata": {
        "id": "Q5uSPunt00Ra"
      }
    },
    {
      "cell_type": "code",
      "source": [
        "class Demo:\n",
        "    def __del__(self):\n",
        "        print(\"Object destroyed\")\n",
        "\n",
        "d = Demo()\n",
        "del d\n"
      ],
      "metadata": {
        "id": "VQnYqleo03Dg",
        "outputId": "a7a1f823-a345-44c3-ec9a-9ad6af6e4d8e",
        "colab": {
          "base_uri": "https://localhost:8080/"
        }
      },
      "execution_count": null,
      "outputs": [
        {
          "output_type": "stream",
          "name": "stdout",
          "text": [
            "Object destroyed\n"
          ]
        }
      ]
    },
    {
      "cell_type": "markdown",
      "source": [
        "#22. Difference between @staticmethod and @classmethod in Python?"
      ],
      "metadata": {
        "id": "AY1WTuvL06Fy"
      }
    },
    {
      "cell_type": "markdown",
      "source": [
        "@staticmethod: No self/cls. Works like a normal function inside a class.\n",
        "\n",
        "@classmethod: Takes cls. Can modify class-level data."
      ],
      "metadata": {
        "id": "38mAqj0m09Mr"
      }
    },
    {
      "cell_type": "markdown",
      "source": [
        "#23. How does polymorphism work in Python with inheritance?"
      ],
      "metadata": {
        "id": "BGX4oiPi1BLu"
      }
    },
    {
      "cell_type": "markdown",
      "source": [
        "Child class overrides parent methods, but the same method name can behave differently in parent and child."
      ],
      "metadata": {
        "id": "zmFb3zxh1FI6"
      }
    },
    {
      "cell_type": "code",
      "source": [
        "class Bird:\n",
        "    def fly(self): print(\"Can fly\")\n",
        "class Penguin(Bird):\n",
        "    def fly(self): print(\"Cannot fly\")\n",
        "\n",
        "for b in (Bird(), Penguin()):\n",
        "    b.fly()\n"
      ],
      "metadata": {
        "id": "BRcoZu2S1IfC",
        "outputId": "07288bda-6003-43d3-85ef-40272fa48a1b",
        "colab": {
          "base_uri": "https://localhost:8080/"
        }
      },
      "execution_count": null,
      "outputs": [
        {
          "output_type": "stream",
          "name": "stdout",
          "text": [
            "Can fly\n",
            "Cannot fly\n"
          ]
        }
      ]
    },
    {
      "cell_type": "markdown",
      "source": [
        "#24. What is method chaining in Python OOP?"
      ],
      "metadata": {
        "id": "335fVWeC1Kgo"
      }
    },
    {
      "cell_type": "markdown",
      "source": [
        "Calling multiple methods in a single line, by returning self in methods.\n",
        "Example: obj.method1().method2().method3()."
      ],
      "metadata": {
        "id": "DL81J1NS1Oc9"
      }
    },
    {
      "cell_type": "code",
      "source": [
        "class Calculator:\n",
        "    def __init__(self, value=0): self.value = value\n",
        "    def add(self, n): self.value += n; return self\n",
        "    def sub(self, n): self.value -= n; return self\n",
        "\n",
        "c = Calculator()\n",
        "print(c.add(10).sub(3).add(5).value)  # 12\n"
      ],
      "metadata": {
        "id": "PkwxSNyV1Qdw",
        "outputId": "c06762ca-8fff-44ca-c059-46d8b9340d76",
        "colab": {
          "base_uri": "https://localhost:8080/"
        }
      },
      "execution_count": null,
      "outputs": [
        {
          "output_type": "stream",
          "name": "stdout",
          "text": [
            "12\n"
          ]
        }
      ]
    },
    {
      "cell_type": "markdown",
      "source": [
        "#25. What is the purpose of the __call__ method in Python?"
      ],
      "metadata": {
        "id": "DHruw_5C1Srs"
      }
    },
    {
      "cell_type": "markdown",
      "source": [
        "Makes objects callable."
      ],
      "metadata": {
        "id": "9Uup-vKJ1VZn"
      }
    },
    {
      "cell_type": "code",
      "source": [
        "class Test:\n",
        "    def __call__(self, x):\n",
        "        return x * x\n",
        "\n",
        "t = Test()\n",
        "print(t(5))  # behaves like function\n"
      ],
      "metadata": {
        "id": "hOnZjZpX1X05",
        "outputId": "b46bb465-dcf0-4a59-d7f7-0b6b5b35fb74",
        "colab": {
          "base_uri": "https://localhost:8080/"
        }
      },
      "execution_count": null,
      "outputs": [
        {
          "output_type": "stream",
          "name": "stdout",
          "text": [
            "25\n"
          ]
        }
      ]
    },
    {
      "cell_type": "markdown",
      "source": [
        "#PRACTICAL ANSWERS"
      ],
      "metadata": {
        "id": "W9_IlooZ5sY8"
      }
    },
    {
      "cell_type": "markdown",
      "source": [
        "#1.Create a parent class Animal with a method speak ( ) that prints a generic message. Create a child class Dog that overrides the speak() method to print \"Bark!\"."
      ],
      "metadata": {
        "id": "wfE3CZY75w9_"
      }
    },
    {
      "cell_type": "code",
      "source": [
        "class Animal:\n",
        "    def speak(self):\n",
        "        print(\"mayur is speaking\")\n",
        "class Dog(Animal):\n",
        "    def speak(self):\n",
        "        print(\"bark\")\n",
        "\n",
        "animal_obj = Animal()\n",
        "dog_obj = Dog()\n",
        "\n",
        "animal_obj.speak()\n",
        "dog_obj.speak()\n"
      ],
      "metadata": {
        "colab": {
          "base_uri": "https://localhost:8080/"
        },
        "id": "1A5yBM03-OTc",
        "outputId": "300615ca-e35e-46ce-82bf-37c2d837a0dd"
      },
      "execution_count": null,
      "outputs": [
        {
          "output_type": "stream",
          "name": "stdout",
          "text": [
            "mayur is speaking\n",
            "bark\n"
          ]
        }
      ]
    },
    {
      "cell_type": "markdown",
      "source": [
        "#2. Write a program to create an abstract class Shape with a method area(). Derive classes Circle and Rectangle from it and implement the area() method in both\n"
      ],
      "metadata": {
        "id": "bbHYaY0D-SCg"
      }
    },
    {
      "cell_type": "code",
      "source": [
        "from abc import ABC,abstractmethod\n",
        "\n",
        "class Shape(ABC):\n",
        "    @abstractmethod\n",
        "    def area():\n",
        "        pass\n",
        "class Circle(Shape):\n",
        "    def __init__(self,radius):\n",
        "        self.radius = radius\n",
        "    def area(self):\n",
        "        return 3.14*(self.radius**2)\n",
        "\n",
        "class Rectangle(Shape):\n",
        "    def __init__(self,length,breadth):\n",
        "        self.length=length\n",
        "        self.breadth = breadth\n",
        "    def area(self):\n",
        "        return self.length*self.breadth\n",
        "c1 = Circle(4)\n",
        "r1 = Rectangle(3,4)\n",
        "for obj in [c1,r1]:\n",
        "    print(f'area of {obj.__class__.__name__} = {obj.area()}')\n"
      ],
      "metadata": {
        "colab": {
          "base_uri": "https://localhost:8080/"
        },
        "id": "aCMLgny6-ZE1",
        "outputId": "d19f7f2d-ff8e-40db-b0bd-8afefdfd3a53"
      },
      "execution_count": null,
      "outputs": [
        {
          "output_type": "stream",
          "name": "stdout",
          "text": [
            "area of Circle = 50.24\n",
            "area of Rectangle = 12\n"
          ]
        }
      ]
    },
    {
      "cell_type": "markdown",
      "source": [
        "#3. Implement a multi-level inheritance scenario where a class Vehicle has an attribute type. Derive a class Car and further derive a class ElectricCar that adds a battery attrlbute\n"
      ],
      "metadata": {
        "id": "oBbbn-9V-Z9-"
      }
    },
    {
      "cell_type": "code",
      "source": [
        "class Vehicle:\n",
        "    def __init__(self,vehicle_type):\n",
        "        self.vehicle_Type = vehicle_type\n",
        "class Car(Vehicle):\n",
        "    def __init__(self,vehicle_type,brand):\n",
        "        super().__init__(vehicle_type)\n",
        "        self.brand = brand\n",
        "class ElectricCar(Car):\n",
        "    def __init__(self,vehicle_Type,brand,Battery_capaity):\n",
        "        super().__init__(vehicle_type,brand)\n",
        "        self.batter_capacity = Battery_capaity\n"
      ],
      "metadata": {
        "id": "RUpm9KuD-fHJ"
      },
      "execution_count": null,
      "outputs": []
    },
    {
      "cell_type": "markdown",
      "source": [
        "#4.Demonstrate polymorphism by creating a pase class Bird with a method fly(). Create two derived classes Sparrow and Penguin that override the fly() method.\n"
      ],
      "metadata": {
        "id": "_g6s4wfI-fuV"
      }
    },
    {
      "cell_type": "code",
      "source": [
        "class Bird:\n",
        "    def fly(self):\n",
        "        print(\"Some birds can fly.\")\n",
        "\n",
        "class Sparrow(Bird):\n",
        "    def fly(self):\n",
        "        print(\"Sparrow is flying high.\")\n",
        "\n",
        "class Penguin(Bird):\n",
        "    def fly(self):\n",
        "        print(\"Penguins cannot fly, they swim instead.\")\n",
        "\n",
        "# Test Polymorphism\n",
        "birds = [Sparrow(), Penguin()]\n",
        "for b in birds:\n",
        "    b.fly()\n"
      ],
      "metadata": {
        "colab": {
          "base_uri": "https://localhost:8080/"
        },
        "id": "NZdVD9sf-ukk",
        "outputId": "c7342f8d-76fd-4e79-f611-1fd5f9096024"
      },
      "execution_count": null,
      "outputs": [
        {
          "output_type": "stream",
          "name": "stdout",
          "text": [
            "Sparrow is flying high.\n",
            "Penguins cannot fly, they swim instead.\n",
            "<__main__.Sparrow object at 0x7f69ddebdaf0>\n"
          ]
        }
      ]
    },
    {
      "cell_type": "markdown",
      "source": [
        "#5.Write a program to demonstrate encapsulatilon by creating a class BankAccount with private attributes balance and methods to deposit, withdraw, and check balance\n"
      ],
      "metadata": {
        "id": "4bfjBE0e_lh6"
      }
    },
    {
      "cell_type": "code",
      "source": [
        "class BankAccount:\n",
        "    def __init__(self, account_number, balance=0):\n",
        "        self.__account_number = account_number  # private attribute\n",
        "        self.__balance = balance\n",
        "\n",
        "    def deposit(self, amount):\n",
        "        if amount > 0:\n",
        "            self.__balance += amount\n",
        "            print(\"reciept\")\n",
        "\n",
        "    def withdraw(self, amount):\n",
        "        if amount <= self.__balance:\n",
        "            self.__balance -= amount\n",
        "        else:\n",
        "            print(\"Insufficient balance\")\n",
        "\n",
        "    def get_balance(self):\n",
        "        return self.__balance\n",
        "\n",
        "# Test\n",
        "acc = BankAccount(\"12345\", 1000)   #acc is the BankAccount object\n",
        "acc.deposit(500)\n",
        "acc.withdraw(300)\n",
        "print(\"Balance:\", acc.get_balance())\n"
      ],
      "metadata": {
        "colab": {
          "base_uri": "https://localhost:8080/"
        },
        "id": "ZccOMHaj_ttb",
        "outputId": "a1dbbc1b-1661-48d2-bb50-585b00ef48a6"
      },
      "execution_count": null,
      "outputs": [
        {
          "output_type": "stream",
          "name": "stdout",
          "text": [
            "reciept\n",
            "Balance: 1200\n"
          ]
        }
      ]
    },
    {
      "cell_type": "markdown",
      "source": [
        "#6. Demonstrate runtime polymorphism using a method play() in a base class Instrument. Derive classes Guitar and Piano that implement their own version of play().\n"
      ],
      "metadata": {
        "id": "DNzWwKNS_u-n"
      }
    },
    {
      "cell_type": "code",
      "source": [
        "class Instrument:\n",
        "    def play(self):\n",
        "        print(\"Instrument is playing a sound.\")\n",
        "\n",
        "class Guitar(Instrument):\n",
        "    def play(self):\n",
        "        print(\"Strumming the guitar 🎸\")\n",
        "\n",
        "class Piano(Instrument):\n",
        "    def play(self):\n",
        "        print(\"Playing the piano 🎹\")\n",
        "\n",
        "# Test Polymorphism\n",
        "instruments = [Guitar(), Piano()]\n",
        "for i in instruments:\n",
        "    i.play()\n"
      ],
      "metadata": {
        "colab": {
          "base_uri": "https://localhost:8080/"
        },
        "id": "vcDu6UAq_39F",
        "outputId": "73991333-728a-42e7-c78d-55e92603f165"
      },
      "execution_count": null,
      "outputs": [
        {
          "output_type": "stream",
          "name": "stdout",
          "text": [
            "Strumming the guitar 🎸\n",
            "Playing the piano 🎹\n"
          ]
        }
      ]
    },
    {
      "cell_type": "markdown",
      "source": [
        "#7. Create a class MathOperations with a class method add_numbers () to add two numbers and a static Method subtract_numbers() to subtract two numbers\n",
        "\n"
      ],
      "metadata": {
        "id": "Co2qgick_4sd"
      }
    },
    {
      "cell_type": "code",
      "source": [
        "class MathOperations:\n",
        "    @classmethod\n",
        "    def add_numbers(cls, a, b     ):\n",
        "        return a + b\n",
        "\n",
        "    @staticmethod\n",
        "    def subtract_numbers(a, b):\n",
        "        return a - b\n",
        "\n",
        "# Test\n",
        "print(\"Addition:\", MathOperations.add_numbers(10, 5))\n",
        "print(\"Subtraction:\", MathOperations.subtract_numbers(10, 5))\n"
      ],
      "metadata": {
        "colab": {
          "base_uri": "https://localhost:8080/"
        },
        "id": "gmg5HrlfAAWc",
        "outputId": "a3f1b980-99fb-49c9-cf30-13241dd26321"
      },
      "execution_count": null,
      "outputs": [
        {
          "output_type": "stream",
          "name": "stdout",
          "text": [
            "Addition: 15\n",
            "Subtraction: 5\n"
          ]
        }
      ]
    },
    {
      "cell_type": "markdown",
      "source": [
        "#8. Implement a class Person with a class method to count the total number of persons created\n"
      ],
      "metadata": {
        "id": "n9XvcRyHABCn"
      }
    },
    {
      "cell_type": "code",
      "source": [
        "class Person:\n",
        "    count = 0  # class attribute\n",
        "\n",
        "    def __init__(self, name):\n",
        "        self.name = name\n",
        "        Person.count += 1\n",
        "\n",
        "    @classmethod\n",
        "    def total_persons(cls):\n",
        "        return cls.count\n",
        "\n",
        "# Test\n",
        "p1 = Person(\"Sneha\")\n",
        "p2 = Person(\"Raj\")\n",
        "print(\"Total Persons:\", Person.total_persons())\n"
      ],
      "metadata": {
        "colab": {
          "base_uri": "https://localhost:8080/"
        },
        "id": "eRRSAkBqAGI4",
        "outputId": "c1eb2be1-37ed-43f7-f1b0-23877840b836"
      },
      "execution_count": null,
      "outputs": [
        {
          "output_type": "stream",
          "name": "stdout",
          "text": [
            "Total Persons: 2\n"
          ]
        }
      ]
    },
    {
      "cell_type": "markdown",
      "source": [
        "#9. Write a class Fraction with attributes numerator and denominator . Override the str method to display the fraction as numerator / denominator\""
      ],
      "metadata": {
        "id": "jthmJEQ1AGuz"
      }
    },
    {
      "cell_type": "code",
      "source": [
        "class Fraction:\n",
        "    def __init__(self, numerator, denominator):\n",
        "        self.numerator = numerator\n",
        "        self.denominator = denominator\n",
        "\n",
        "    def __str__(self):\n",
        "        return f\"{self.numerator}/{self.denominator}\"\n",
        "\n",
        "# Test\n",
        "f = Fraction(3, 4)\n",
        "print(f)   # Output: 3/4\n"
      ],
      "metadata": {
        "colab": {
          "base_uri": "https://localhost:8080/"
        },
        "id": "8G2Pq3v1Ahg7",
        "outputId": "143161b0-5def-4719-9470-47b33755388c"
      },
      "execution_count": null,
      "outputs": [
        {
          "output_type": "stream",
          "name": "stdout",
          "text": [
            "3/4\n"
          ]
        }
      ]
    },
    {
      "cell_type": "markdown",
      "source": [
        "#10. Demonstrate operator overloading by creating a class Vector and overriding the add method to add two Vectors.\n"
      ],
      "metadata": {
        "id": "jwxzzxj3AicN"
      }
    },
    {
      "cell_type": "code",
      "source": [
        "class Vector:\n",
        "    def __init__(self, x, y):\n",
        "        self.x = x\n",
        "        self.y = y\n",
        "\n",
        "    def __add__(self, other):\n",
        "        return Vector(self.x + other.x, self.y + other.y)\n",
        "\n",
        "    def __str__(self):\n",
        "        return f\"({self.x}, {self.y})\"\n",
        "\n",
        "# Test\n",
        "v1 = Vector(2, 3)\n",
        "v2 = Vector(4, 5)\n",
        "print(\"Sum of vectors:\", v1 + v2)\n"
      ],
      "metadata": {
        "colab": {
          "base_uri": "https://localhost:8080/"
        },
        "id": "HpUvK5omAn6k",
        "outputId": "54191271-a39e-45d4-ca3a-8f03a4ca1303"
      },
      "execution_count": null,
      "outputs": [
        {
          "output_type": "stream",
          "name": "stdout",
          "text": [
            "Sum of vectors: (6, 8)\n"
          ]
        }
      ]
    },
    {
      "cell_type": "markdown",
      "source": [
        "#11.Create a class Person with attributes name and age Add a method greet() that prints \"Hello, my name is {name} and I am {age} years old\"\n"
      ],
      "metadata": {
        "id": "RhEkVFjwApak"
      }
    },
    {
      "cell_type": "code",
      "source": [
        "class Person:\n",
        "    def __init__(self, name, age):\n",
        "        self.name = name\n",
        "        self.age = age\n",
        "\n",
        "    def greet(self):\n",
        "        print(f\"Hello, my name is {self.name} and I am {self.age} years old.\")\n",
        "\n",
        "# Test\n",
        "p = Person(\"Sneha\", 22)\n",
        "p.greet()\n"
      ],
      "metadata": {
        "colab": {
          "base_uri": "https://localhost:8080/"
        },
        "id": "cMcTEgg3BDCK",
        "outputId": "a5ff5848-1258-459d-af4e-fa4abd6564df"
      },
      "execution_count": null,
      "outputs": [
        {
          "output_type": "stream",
          "name": "stdout",
          "text": [
            "Hello, my name is Sneha and I am 22 years old.\n"
          ]
        }
      ]
    },
    {
      "cell_type": "markdown",
      "source": [
        "#12. implement a class Student with attributes name and grades. Create a method average_grade()to compute the average of the grades.\n"
      ],
      "metadata": {
        "id": "_s7M8qnnBD1D"
      }
    },
    {
      "cell_type": "code",
      "source": [
        "class Student:\n",
        "    def __init__(self, name, grades):\n",
        "        self.name = name\n",
        "        self.grades = grades\n",
        "\n",
        "    def average_grade(self):\n",
        "        return sum(self.grades) / len(self.grades)\n",
        "\n",
        "# Test\n",
        "s = Student(\"Rahul\", [85, 90, 78, 92])\n",
        "print(\"Average Grade:\", s.average_grade())\n"
      ],
      "metadata": {
        "colab": {
          "base_uri": "https://localhost:8080/"
        },
        "id": "1l4VK915BLpN",
        "outputId": "bdd37124-4e45-443f-efba-d62c3aa2fe1b"
      },
      "execution_count": null,
      "outputs": [
        {
          "output_type": "stream",
          "name": "stdout",
          "text": [
            "Average Grade: 86.25\n"
          ]
        }
      ]
    },
    {
      "cell_type": "markdown",
      "source": [
        "#13. Create a class Rectangle with methods set_dimensions() to set the dimensions and area() to calculato the area\n"
      ],
      "metadata": {
        "id": "LfCSZWEVBMMM"
      }
    },
    {
      "cell_type": "code",
      "source": [
        "class Rectangle:\n",
        "    def set_dimensions(self, width, height):\n",
        "        self.width = width\n",
        "        self.height = height\n",
        "\n",
        "    def area(self):\n",
        "        return self.width * self.height\n",
        "\n",
        "# Test\n",
        "r = Rectangle()\n",
        "r.set_dimensions(5, 10)\n",
        "print(\"Area of Rectangle:\", r.area())\n"
      ],
      "metadata": {
        "colab": {
          "base_uri": "https://localhost:8080/"
        },
        "id": "RcvxvFHYBZjM",
        "outputId": "639db726-75dc-4d68-f4ce-61fbcbaec67d"
      },
      "execution_count": null,
      "outputs": [
        {
          "output_type": "stream",
          "name": "stdout",
          "text": [
            "Area of Rectangle: 50\n"
          ]
        }
      ]
    },
    {
      "cell_type": "markdown",
      "source": [
        "#14. Create a class Employee with a method calculate_salary () that computes the salary based on hours worked and hourly rate, Create a derived class Manager that adds a bonus to the salary."
      ],
      "metadata": {
        "id": "BNLnO74mBa2N"
      }
    },
    {
      "cell_type": "code",
      "source": [
        "class Employee:\n",
        "    def __init__(self, hours, rate):\n",
        "        self.hours = hours\n",
        "        self.rate = rate\n",
        "\n",
        "    def calculate_salary(self):\n",
        "        return self.hours * self.rate\n",
        "\n",
        "class Manager(Employee):\n",
        "    def __init__(self, hours, rate, bonus):\n",
        "        super().__init__(hours, rate)\n",
        "        self.bonus = bonus\n",
        "\n",
        "    def calculate_salary(self):\n",
        "        return super().calculate_salary() + self.bonus\n",
        "\n",
        "# Test\n",
        "e = Employee(40, 200)\n",
        "print(\"Employee Salary:\", e.calculate_salary())\n",
        "\n",
        "m = Manager(40, 200, 5000)\n",
        "print(\"Manager Salary:\", m.calculate_salary())\n"
      ],
      "metadata": {
        "colab": {
          "base_uri": "https://localhost:8080/"
        },
        "id": "pS5kwz7hBj0_",
        "outputId": "ce99d059-a1f5-403d-c7f4-b63257aac322"
      },
      "execution_count": null,
      "outputs": [
        {
          "output_type": "stream",
          "name": "stdout",
          "text": [
            "Employee Salary: 8000\n",
            "Manager Salary: 13000\n"
          ]
        }
      ]
    },
    {
      "cell_type": "markdown",
      "source": [
        "#15. Create a class Product with attributes name, price, and quantity. Implement a method total_price() that calculates the total price of the product.\n",
        "\n"
      ],
      "metadata": {
        "id": "Ci0l9t4aBqG_"
      }
    },
    {
      "cell_type": "code",
      "source": [
        "class Product:\n",
        "    def __init__(self, name, price, quantity):\n",
        "        self.name = name\n",
        "        self.price = price\n",
        "        self.quantity = quantity\n",
        "\n",
        "    def total_price(self):\n",
        "        return self.price * self.quantity\n",
        "\n",
        "# Test\n",
        "p = Product(\"Laptop\", 60000, 2)\n",
        "print(\"Total Price:\", p.total_price())\n"
      ],
      "metadata": {
        "colab": {
          "base_uri": "https://localhost:8080/"
        },
        "id": "_GcfrChlB_nQ",
        "outputId": "b5f5d7b4-ec22-497a-dac1-057264bf82f6"
      },
      "execution_count": null,
      "outputs": [
        {
          "output_type": "stream",
          "name": "stdout",
          "text": [
            "Total Price: 120000\n"
          ]
        }
      ]
    },
    {
      "cell_type": "markdown",
      "source": [
        "#16. Create a class Animal with an abstract method sound(). Create two derived classes Cow and Sheep that implement the sound()method\n"
      ],
      "metadata": {
        "id": "jTVc_PAtCArv"
      }
    },
    {
      "cell_type": "code",
      "source": [
        "from abc import ABC, abstractmethod\n",
        "\n",
        "class Animal(ABC):\n",
        "    @abstractmethod\n",
        "    def sound(self):\n",
        "        pass\n",
        "\n",
        "class Cow(Animal):\n",
        "    def sound(self):\n",
        "        return \"Moo\"\n",
        "\n",
        "class Sheep(Animal):\n",
        "    def sound(self):\n",
        "        return \"Baa\"\n",
        "\n",
        "# Test\n",
        "c = Cow()\n",
        "s = Sheep()\n",
        "print(c.sound())\n",
        "print(s.sound())\n"
      ],
      "metadata": {
        "colab": {
          "base_uri": "https://localhost:8080/"
        },
        "id": "Hf5tvIHfCNUv",
        "outputId": "674125b6-0829-4bde-fd98-18a1672d036e"
      },
      "execution_count": null,
      "outputs": [
        {
          "output_type": "stream",
          "name": "stdout",
          "text": [
            "Moo\n",
            "Baa\n"
          ]
        }
      ]
    },
    {
      "cell_type": "markdown",
      "source": [
        "#17. Create a class Book with attributes title, author, and year_published. Add a method get_book_info() that returns a formatted string with the book's details.\n"
      ],
      "metadata": {
        "id": "Vps3uT0jCNxg"
      }
    },
    {
      "cell_type": "code",
      "source": [
        "class Book:\n",
        "    def __init__(self, title, author, year_published):\n",
        "        self.title = title\n",
        "        self.author = author\n",
        "        self.year_published = year_published\n",
        "\n",
        "    def get_book_info(self):\n",
        "        return f\"'{self.title}' by {self.author}, published in {self.year_published}\"\n",
        "\n",
        "# Test\n",
        "b = Book(\"1984\", \"George Orwell\", 1949)\n",
        "print(b.get_book_info())\n"
      ],
      "metadata": {
        "colab": {
          "base_uri": "https://localhost:8080/"
        },
        "id": "nwpz0kRxCR4S",
        "outputId": "aa2ec727-276a-42b1-b5c5-46739d951290"
      },
      "execution_count": null,
      "outputs": [
        {
          "output_type": "stream",
          "name": "stdout",
          "text": [
            "'1984' by George Orwell, published in 1949\n"
          ]
        }
      ]
    },
    {
      "cell_type": "markdown",
      "source": [
        "#18. Create a class House with attributes address and price. Create a derived class Mansion that adds an attribute number_of_rooms."
      ],
      "metadata": {
        "id": "veDBUAHfCSey"
      }
    },
    {
      "cell_type": "code",
      "source": [
        "class House:\n",
        "    def __init__(self, address, price):\n",
        "        self.address = address\n",
        "        self.price = price\n",
        "\n",
        "class Mansion(House):\n",
        "    def __init__(self, address, price, number_of_rooms):\n",
        "        super().__init__(address, price)\n",
        "        self.number_of_rooms = number_of_rooms\n",
        "\n",
        "# Test\n",
        "m = Mansion(\"Beverly Hills\", 5000000, 20)\n",
        "print(f\"Address: {m.address}, Price: {m.price}, Rooms: {m.number_of_rooms}\")\n"
      ],
      "metadata": {
        "colab": {
          "base_uri": "https://localhost:8080/"
        },
        "id": "bZBZnu4CCXb4",
        "outputId": "b3c1d170-f909-4133-9246-187cc82423d7"
      },
      "execution_count": null,
      "outputs": [
        {
          "output_type": "stream",
          "name": "stdout",
          "text": [
            "Address: Beverly Hills, Price: 5000000, Rooms: 20\n"
          ]
        }
      ]
    }
  ],
  "metadata": {
    "colab": {
      "provenance": [],
      "include_colab_link": true
    },
    "kernelspec": {
      "display_name": "Python 3",
      "name": "python3"
    }
  },
  "nbformat": 4,
  "nbformat_minor": 0
}